{
 "cells": [
  {
   "cell_type": "markdown",
   "metadata": {},
   "source": [
    "# BIDS: Brain Imaging Dataset Specification\n",
    "\n",
    "- This notebook is a revision of the excellent [Dartbrains Introductory Notebook](https://dartbrains.org/content/Introduction_to_Neuroimaging_Data.html).\n",
    "- Recently, there has been growing interest to share datasets across labs and even on public repositories such as [openneuro](https://openneuro.org/). In order to make this a successful enterprise, it is necessary to have some standards in how the data are named and organized. Historically, each lab has used their own idiosyncratic conventions, which can make it difficult for outsiders to analyze. In the past few years, there have been heroic efforts by the neuroimaging community to create a standardized file organization and naming practices. This specification is called **BIDS** for [Brain Imaging Dataset Specification](http://bids.neuroimaging.io/).\n",
    "- Because BIDS is a consistent format, it is possible to have a python package to make it easy to query a dataset. We recommend using [pybids](https://github.com/bids-standard/pybids).\n"
   ]
  },
  {
   "cell_type": "markdown",
   "metadata": {},
   "source": [
    "# Get the Data and Unzip it\n",
    "Download the data from osf with wget, unzip it and clean up the zip file."
   ]
  },
  {
   "cell_type": "code",
   "execution_count": null,
   "metadata": {},
   "outputs": [],
   "source": [
    "import wget\n",
    "\n",
    "site_url = 'https://osf.io/5q3m8/download'\n",
    "wget.download(site_url)"
   ]
  },
  {
   "cell_type": "code",
   "execution_count": null,
   "metadata": {},
   "outputs": [],
   "source": [
    "import zipfile\n",
    "\n",
    "with zipfile.ZipFile(\"Jupyter_neuro_data.zip\",\"r\") as zip_ref: \n",
    "    zip_ref.extractall(path=None)"
   ]
  },
  {
   "cell_type": "code",
   "execution_count": null,
   "metadata": {},
   "outputs": [],
   "source": [
    "import os\n",
    "\n",
    "if os.path.exists(\"Jupyter_neuro_data.zip\"):\n",
    "   os.remove(\"Jupyter_neuro_data.zip\")\n"
   ]
  },
  {
   "cell_type": "markdown",
   "metadata": {},
   "source": [
    "## The `BIDSLayout`\n",
    "[Pybids](https://github.com/bids-standard/pybids) is a package to help query and navigate a neuroimaging dataset that is in the BIDs format. At the core of pybids is the `BIDSLayout` object. A `BIDSLayout` is a lightweight Python class that represents a BIDS project file tree and provides a variety of helpful methods for querying and manipulating BIDS files. While the BIDSLayout initializer has a large number of arguments you can use to control the way files are indexed and accessed, you will most commonly initialize a BIDSLayout by passing in the BIDS dataset root location as a single argument.\n",
    "\n",
    "If we set `derivatives=True`the layout will also index and validate the derivatives subfolder, which might contain preprocessed data, analyses, or other user generated files (In our case, except for sub-219, the datasets are just stubs.  These stubs will work with BIDSlayout even though the images are empty). \n",
    "\n",
    "See [Querying BIDS datasets](https://bids-standard.github.io/pybids/layout/index.html) for more examples."
   ]
  },
  {
   "cell_type": "code",
   "execution_count": null,
   "metadata": {
    "ExecuteTime": {
     "end_time": "2020-09-29T21:13:29.236522Z",
     "start_time": "2020-09-29T21:13:26.118137Z"
    }
   },
   "outputs": [],
   "source": [
    "from bids import BIDSLayout, BIDSValidator\n",
    "import os\n",
    "\n",
    "data_dir = 'data/inputs'\n",
    "# layout = BIDSLayout(data_dir, derivatives=True)\n",
    "layout = BIDSLayout(data_dir, derivatives=False)"
   ]
  },
  {
   "cell_type": "markdown",
   "metadata": {},
   "source": [
    "When we initialize a BIDSLayout, all of the files and metadata found under the specified root folder are indexed. This can take a few seconds (or, for very large datasets, a minute or two). Once initialization is complete, we can start querying the BIDSLayout in various ways. \n",
    "\n",
    "The main query method is `.get()`. If we call .`get()` with no additional arguments, we get back a list of all the BIDS files in our dataset."
   ]
  },
  {
   "cell_type": "code",
   "execution_count": null,
   "metadata": {
    "ExecuteTime": {
     "end_time": "2020-09-29T21:13:33.831834Z",
     "start_time": "2020-09-29T21:13:33.795946Z"
    }
   },
   "outputs": [],
   "source": [
    "layout.get()"
   ]
  },
  {
   "cell_type": "markdown",
   "metadata": {},
   "source": [
    "As you can see, just a generic `.get()` call gives us *all* of the files. We will definitely want to be a bit more specific. We can specify the type of data we would like to query. For example, suppose we want to return the first 10 subject ids."
   ]
  },
  {
   "cell_type": "markdown",
   "metadata": {},
   "source": [
    "### Clear Cell Outputs\n",
    "\n",
    "That's a lot of files!  To clear the giant list that was just produced, right-click the output cell and choose **Clear Outputs**"
   ]
  },
  {
   "cell_type": "markdown",
   "metadata": {},
   "source": [
    "Return just 10 results instead"
   ]
  },
  {
   "cell_type": "code",
   "execution_count": null,
   "metadata": {},
   "outputs": [],
   "source": [
    "pwd"
   ]
  },
  {
   "cell_type": "code",
   "execution_count": null,
   "metadata": {},
   "outputs": [],
   "source": [
    "layout.get()[:10]"
   ]
  },
  {
   "cell_type": "markdown",
   "metadata": {},
   "source": [
    "Return just the subject numbers.  This can be accomplished in a couple of ways."
   ]
  },
  {
   "cell_type": "code",
   "execution_count": null,
   "metadata": {
    "ExecuteTime": {
     "end_time": "2020-09-29T21:13:43.288326Z",
     "start_time": "2020-09-29T21:13:43.253127Z"
    }
   },
   "outputs": [],
   "source": [
    "layout.get(target='subject', return_type='id')[:10]"
   ]
  },
  {
   "cell_type": "code",
   "execution_count": null,
   "metadata": {},
   "outputs": [],
   "source": [
    "layout.get_subjects()"
   ]
  },
  {
   "cell_type": "markdown",
   "metadata": {},
   "source": [
    "Or perhaps, we would like to get the file names for the raw bold functional nifti images for the first 10 subjects. We can filter files in the `raw` or `derivatives`, using `scope` keyword.`scope='raw'`, to only query raw bold nifti files."
   ]
  },
  {
   "cell_type": "code",
   "execution_count": null,
   "metadata": {
    "ExecuteTime": {
     "end_time": "2020-09-29T21:13:46.702262Z",
     "start_time": "2020-09-29T21:13:46.678097Z"
    }
   },
   "outputs": [],
   "source": [
    "layout.get(target='subject', scope='raw', suffix='bold', return_type='file')[:10]"
   ]
  },
  {
   "cell_type": "markdown",
   "metadata": {},
   "source": [
    "When you call .get() on a BIDSLayout, the default returned values are objects of class BIDSFile. A BIDSFile is a lightweight container for individual files in a BIDS dataset. \n",
    "\n",
    "Here are some of the attributes and methods available to us in a BIDSFile (note that some of these are only available for certain subclasses of BIDSFile; e.g., you can't call get_image() on a BIDSFile that doesn't correspond to an image file!):\n",
    "\n",
    "- .path: The full path of the associated file\n",
    "- .filename: The associated file's filename (without directory)\n",
    "- .dirname: The directory containing the file\n",
    "- .get_entities(): Returns information about entities associated with this BIDSFile (optionally including metadata)\n",
    "- .get_image(): Returns the file contents as a nibabel image (only works for image files)\n",
    "- .get_df(): Get file contents as a pandas DataFrame (only works for TSV files)\n",
    "- .get_metadata(): Returns a dictionary of all metadata found in associated JSON files\n",
    "- .get_associations(): Returns a list of all files associated with this one in some way\n",
    "- .get_subjects(): Return a list of the subject ID numbers\n",
    "\n",
    "Explore the first file in the list in a little more detail. It is indexed with [0].  \n",
    "\n",
    "Change the index to see a different file."
   ]
  },
  {
   "cell_type": "code",
   "execution_count": null,
   "metadata": {
    "ExecuteTime": {
     "end_time": "2020-09-29T21:13:55.820223Z",
     "start_time": "2020-09-29T21:13:55.786380Z"
    }
   },
   "outputs": [],
   "source": [
    "f = layout.get()[0]\n",
    "f"
   ]
  },
  {
   "cell_type": "markdown",
   "metadata": {
    "ExecuteTime": {
     "end_time": "2020-04-08T04:33:36.065081Z",
     "start_time": "2020-04-08T04:33:36.061331Z"
    }
   },
   "source": [
    "If we wanted to get the path of the file, we can use `.path`."
   ]
  },
  {
   "cell_type": "code",
   "execution_count": null,
   "metadata": {
    "ExecuteTime": {
     "end_time": "2020-09-29T21:13:57.839033Z",
     "start_time": "2020-09-29T21:13:57.834896Z"
    }
   },
   "outputs": [],
   "source": [
    "f.path"
   ]
  },
  {
   "cell_type": "markdown",
   "metadata": {
    "ExecuteTime": {
     "end_time": "2020-04-08T04:41:46.387015Z",
     "start_time": "2020-04-08T04:41:46.383236Z"
    }
   },
   "source": [
    "Suppose we were interested in getting a list of tasks included in the dataset."
   ]
  },
  {
   "cell_type": "code",
   "execution_count": null,
   "metadata": {
    "ExecuteTime": {
     "end_time": "2020-09-29T21:13:59.961297Z",
     "start_time": "2020-09-29T21:13:59.904077Z"
    }
   },
   "outputs": [],
   "source": [
    "layout.get_task()"
   ]
  },
  {
   "cell_type": "markdown",
   "metadata": {
    "ExecuteTime": {
     "end_time": "2020-04-08T04:36:09.113705Z",
     "start_time": "2020-04-08T04:36:09.043456Z"
    }
   },
   "source": [
    "We can query all of the files associated with this task."
   ]
  },
  {
   "cell_type": "code",
   "execution_count": null,
   "metadata": {
    "ExecuteTime": {
     "end_time": "2020-09-29T21:14:02.078750Z",
     "start_time": "2020-09-29T21:14:02.054906Z"
    }
   },
   "outputs": [],
   "source": [
    "layout.get(task='rest', suffix='bold', scope='raw')[:10]"
   ]
  },
  {
   "cell_type": "markdown",
   "metadata": {},
   "source": [
    "Notice that there are nifti and json files. We can get the filename for the first particant's functional run"
   ]
  },
  {
   "cell_type": "code",
   "execution_count": null,
   "metadata": {
    "ExecuteTime": {
     "end_time": "2020-04-09T16:39:57.330373Z",
     "start_time": "2020-04-09T16:39:42.175279Z"
    }
   },
   "outputs": [],
   "source": [
    "f = layout.get(task='rest')[0].filename\n",
    "f"
   ]
  },
  {
   "cell_type": "markdown",
   "metadata": {},
   "source": [
    "If you want a summary of all the files in your BIDSLayout, but don't want to have to iterate BIDSFile objects and extract their entities, you can get a nice bird's-eye view of your dataset using the `to_df()` method."
   ]
  },
  {
   "cell_type": "code",
   "execution_count": null,
   "metadata": {
    "ExecuteTime": {
     "end_time": "2020-09-29T21:14:13.227079Z",
     "start_time": "2020-09-29T21:14:11.328079Z"
    }
   },
   "outputs": [],
   "source": [
    "layout.to_df()"
   ]
  },
  {
   "cell_type": "markdown",
   "metadata": {},
   "source": [
    "## Loading Data with Nibabel\n",
    "Neuroimaging data is often stored in the format of nifti files `.nii` which can also be compressed using gzip `.nii.gz`.  These files store both 3D and 4D data and also contain structured metadata in the image **header**.\n",
    "\n",
    "There is an very nice tool to access nifti data stored on your file system in python called [nibabel](http://nipy.org/nibabel/).  If you don't already have nibabel installed on your computer it is easy via `pip`. First, tell the jupyter cell that you would like to access the unix system outside of the notebook and then install nibabel using pip `!pip install nibabel`. You only need to run this once (unless you would like to update the version).\n",
    "\n",
    "nibabel objects can be initialized by simply pointing to a nifti file even if it is compressed through gzip.  First, we will import the nibabel module as `nib` (short and sweet so that we don't have to type so much when using the tool).  I'm also including a path to where the data file is located so that I don't have to constantly type this.  It is easy to change this on your own computer.\n",
    "\n",
    "We will be loading an anatomical image from subject 219.\n",
    "\n",
    "Use pybids to grab subject's T1 image."
   ]
  },
  {
   "cell_type": "code",
   "execution_count": null,
   "metadata": {
    "ExecuteTime": {
     "end_time": "2020-09-29T21:15:50.746756Z",
     "start_time": "2020-09-29T21:15:50.702604Z"
    }
   },
   "outputs": [],
   "source": [
    "import nibabel as nib\n",
    "\n",
    "T1w_data = nib.load(layout.get(subject='219', scope='raw', session='itbs', suffix='T1w', return_type='file', extension='nii.gz')[0])"
   ]
  },
  {
   "cell_type": "markdown",
   "metadata": {},
   "source": [
    "If we want to get more help on how to work with the nibabel data object we can either consult the [documentation](https://nipy.org/nibabel/tutorials.html#tutorials) or add a `?`."
   ]
  },
  {
   "cell_type": "code",
   "execution_count": null,
   "metadata": {
    "ExecuteTime": {
     "end_time": "2020-09-29T21:15:56.908243Z",
     "start_time": "2020-09-29T21:15:56.903579Z"
    }
   },
   "outputs": [],
   "source": [
    "T1w_data?"
   ]
  },
  {
   "cell_type": "markdown",
   "metadata": {
    "ExecuteTime": {
     "end_time": "2019-04-02T16:20:50.660143Z",
     "start_time": "2019-04-02T16:20:50.655870Z"
    }
   },
   "source": [
    "The imaging data is stored in either a 3D or 4D numpy array. Just like numpy, it is easy to get the dimensions of the data using `shape`. "
   ]
  },
  {
   "cell_type": "code",
   "execution_count": null,
   "metadata": {
    "ExecuteTime": {
     "end_time": "2020-09-29T21:15:59.999441Z",
     "start_time": "2020-09-29T21:15:59.995663Z"
    }
   },
   "outputs": [],
   "source": [
    "T1w_data.shape"
   ]
  },
  {
   "cell_type": "markdown",
   "metadata": {},
   "source": [
    "Looks like there are 3 dimensions (x,y,z) that is the number of voxels in each dimension. If we know the voxel size, we could convert this into millimeters.\n",
    "\n",
    "We can also directly access the data and plot a single slice using standard matplotlib functions."
   ]
  },
  {
   "cell_type": "code",
   "execution_count": null,
   "metadata": {
    "ExecuteTime": {
     "end_time": "2020-09-29T21:16:02.151823Z",
     "start_time": "2020-09-29T21:16:01.402427Z"
    }
   },
   "outputs": [],
   "source": [
    "%matplotlib inline\n",
    "\n",
    "import matplotlib.pyplot as plt\n",
    "\n",
    "plt.imshow(T1w_data.get_fdata()[:,:,100])"
   ]
  },
  {
   "cell_type": "markdown",
   "metadata": {},
   "source": [
    "Try slicing different dimensions (x,y,z) yourself to get a feel for how the data is represented in this anatomical image."
   ]
  },
  {
   "cell_type": "markdown",
   "metadata": {},
   "source": [
    "We can also access data from the image header. Let's assign the header of an image to a variable and print it to view it's contents."
   ]
  },
  {
   "cell_type": "code",
   "execution_count": null,
   "metadata": {
    "ExecuteTime": {
     "end_time": "2020-09-29T21:16:05.729442Z",
     "start_time": "2020-09-29T21:16:05.725124Z"
    }
   },
   "outputs": [],
   "source": [
    "header = T1w_data.header\n",
    "print(header)      "
   ]
  },
  {
   "cell_type": "markdown",
   "metadata": {
    "ExecuteTime": {
     "end_time": "2019-04-02T16:28:47.739625Z",
     "start_time": "2019-04-02T16:28:47.735681Z"
    }
   },
   "source": [
    "Some of the important information in the header is information about the orientation of the image in space. This can be represented as the affine matrix, which can be used to transform images between different spaces."
   ]
  },
  {
   "cell_type": "code",
   "execution_count": null,
   "metadata": {
    "ExecuteTime": {
     "end_time": "2020-09-29T21:16:07.538935Z",
     "start_time": "2020-09-29T21:16:07.534918Z"
    }
   },
   "outputs": [],
   "source": [
    "T1w_data.affine"
   ]
  },
  {
   "cell_type": "markdown",
   "metadata": {},
   "source": [
    "We will dive deeper into affine transformations in the preprocessing tutorial."
   ]
  },
  {
   "cell_type": "markdown",
   "metadata": {},
   "source": [
    "## Plotting Data with Nilearn\n",
    "There are many useful tools from the [nilearn](https://nilearn.github.io/index.html) library to help manipulate and visualize neuroimaging data. See their [documentation](https://nilearn.github.io/plotting/index.html#different-plotting-functions) for an example.\n",
    "\n",
    "In this section, we will explore a few of their different plotting functions, which can work directly with nibabel instances.\n",
    "\n",
    "Some of these functions are SLOW.  If the cell is marked like `[*]` then wait till it finishes running and gets assigned a number."
   ]
  },
  {
   "cell_type": "code",
   "execution_count": null,
   "metadata": {
    "ExecuteTime": {
     "end_time": "2020-09-29T21:16:10.758691Z",
     "start_time": "2020-09-29T21:16:09.964725Z"
    }
   },
   "outputs": [],
   "source": [
    "%matplotlib inline\n",
    "\n",
    "from nilearn.plotting import view_img, plot_glass_brain, plot_anat, plot_epi"
   ]
  },
  {
   "cell_type": "code",
   "execution_count": null,
   "metadata": {
    "ExecuteTime": {
     "end_time": "2020-09-29T21:16:12.857157Z",
     "start_time": "2020-09-29T21:16:11.629361Z"
    },
    "scrolled": true
   },
   "outputs": [],
   "source": [
    "plot_anat(T1w_data)"
   ]
  },
  {
   "cell_type": "markdown",
   "metadata": {},
   "source": [
    "Nilearn plotting functions are very flexible and allow us to easily customize our plots"
   ]
  },
  {
   "cell_type": "code",
   "execution_count": null,
   "metadata": {
    "ExecuteTime": {
     "end_time": "2020-09-29T21:16:15.073114Z",
     "start_time": "2020-09-29T21:16:14.137816Z"
    }
   },
   "outputs": [],
   "source": [
    "plot_anat(T1w_data, draw_cross=False, display_mode='z')"
   ]
  },
  {
   "cell_type": "markdown",
   "metadata": {},
   "source": [
    "## Get More Information about plot_anat\n",
    "Get more information about how to use the function with `?` and try to add different commands to change the plot.\n",
    "\n",
    "nilearn also has a neat interactive viewer called `view_img` for examining images directly in the notebook. "
   ]
  },
  {
   "cell_type": "code",
   "execution_count": null,
   "metadata": {},
   "outputs": [],
   "source": [
    "plot_anat?"
   ]
  },
  {
   "cell_type": "code",
   "execution_count": null,
   "metadata": {
    "ExecuteTime": {
     "end_time": "2020-09-29T21:16:18.447685Z",
     "start_time": "2020-09-29T21:16:16.793040Z"
    }
   },
   "outputs": [],
   "source": [
    "view_img(T1w_data)"
   ]
  },
  {
   "cell_type": "markdown",
   "metadata": {},
   "source": [
    "The `view_img` function is particularly useful for overlaying statistical maps over an anatomical image so that we can interactively examine where the results are located.\n",
    "\n",
    "As an example, let's load a mask of the amygdala and try to find where it is located. We will download it from [Neurovault](https://neurovault.org/images/18632/) using a function from `nltools`."
   ]
  },
  {
   "cell_type": "code",
   "execution_count": null,
   "metadata": {
    "ExecuteTime": {
     "end_time": "2020-09-29T22:08:23.640540Z",
     "start_time": "2020-09-29T22:08:16.337376Z"
    }
   },
   "outputs": [],
   "source": [
    "from nltools.data import Brain_Data\n",
    "amygdala_mask = Brain_Data('https://neurovault.org/media/images/1290/FSL_BAmyg_thr0.nii.gz').to_nifti()\n",
    "\n",
    "view_img(amygdala_mask, T1w_data)"
   ]
  },
  {
   "cell_type": "markdown",
   "metadata": {},
   "source": [
    "We can also plot a glass brain which allows us to see through the brain from different slice orientations. In this example, we will plot the binary amygdala mask."
   ]
  },
  {
   "cell_type": "code",
   "execution_count": null,
   "metadata": {
    "ExecuteTime": {
     "end_time": "2020-09-29T22:09:01.540549Z",
     "start_time": "2020-09-29T22:08:59.915693Z"
    }
   },
   "outputs": [],
   "source": [
    "plot_glass_brain(amygdala_mask)"
   ]
  },
  {
   "cell_type": "markdown",
   "metadata": {},
   "source": [
    "## Manipulating Data with Nltools\n",
    "Ok, we've now learned how to use nibabel to load imaging data and nilearn to plot it.\n",
    "\n",
    "Next we are going to learn how to use the `nltools` package that tries to make loading, plotting, and manipulating data easier. It uses many functions from nibabel, nilearn, and other python libraries. The bulk of the nltools toolbox is built around the `Brain_Data()` class. The concept behind the class is to have a similar feel to a pandas dataframe, which means that it should feel intuitive to manipulate the data.\n",
    "\n",
    "The `Brain_Data()` class has several attributes that may be helpful to know about. First, it stores imaging data in `.data` as a vectorized features by observations matrix. Each image is an observation and each voxel is a feature. Space is flattened using `nifti_masker` from nilearn. This object is also stored as an attribute in `.nifti_masker` to allow transformations from 2D to 3D/4D matrices. In addition, a brain_mask is stored in `.mask`. Finally, there are attributes to store either class labels for prediction/classification analyses in `.Y` and design matrices in `.X`. These are both expected to be pandas `DataFrames`.\n",
    "\n",
    "We will give a quick overview of basic Brain_Data operations, but we encourage you to see our [documentation](https://nltools.org/) for more details.\n",
    "\n",
    "### Brain_Data basics\n",
    "To get a feel for `Brain_Data`, let's load an example anatomical overlay image that comes packaged with the toolbox."
   ]
  },
  {
   "cell_type": "code",
   "execution_count": null,
   "metadata": {
    "ExecuteTime": {
     "end_time": "2020-09-29T22:09:05.431045Z",
     "start_time": "2020-09-29T22:09:05.230515Z"
    }
   },
   "outputs": [],
   "source": [
    "from nltools.data import Brain_Data\n",
    "from nltools.utils import get_anatomical\n",
    "\n",
    "anat = Brain_Data(get_anatomical())\n",
    "anat"
   ]
  },
  {
   "cell_type": "markdown",
   "metadata": {},
   "source": [
    "To view the attributes of `Brain_Data` use the `vars()` function."
   ]
  },
  {
   "cell_type": "code",
   "execution_count": null,
   "metadata": {
    "ExecuteTime": {
     "end_time": "2020-09-29T22:09:07.554423Z",
     "start_time": "2020-09-29T22:09:07.544905Z"
    }
   },
   "outputs": [],
   "source": [
    "print(vars(anat))"
   ]
  },
  {
   "cell_type": "markdown",
   "metadata": {},
   "source": [
    "`Brain_Data` has many methods to help manipulate, plot, and analyze imaging data. We can use the `dir()` function to get a quick list of all of the available methods that can be used on this class.\n",
    "\n",
    "To learn more about how to use these tools either use the `?` function, or look up the function in the [api documentation](https://nltools.org/api.html).\n"
   ]
  },
  {
   "cell_type": "code",
   "execution_count": null,
   "metadata": {
    "ExecuteTime": {
     "end_time": "2020-09-29T22:09:09.905266Z",
     "start_time": "2020-09-29T22:09:09.901200Z"
    }
   },
   "outputs": [],
   "source": [
    "print(dir(anat))"
   ]
  },
  {
   "cell_type": "markdown",
   "metadata": {},
   "source": [
    "Ok, now let's load a single subject's functional data from the run 1 resting state dataset. We will load one that has already been preprocessed with fmriprep and is stored in the derivatives folder.\n",
    "\n",
    "Loading data can be **slow** especially if the data need to be resampled to the template, which is set at $2mm^3$ by default. However, once it's loaded into the workspace it should be relatively fast to work with it.\n"
   ]
  },
  {
   "cell_type": "code",
   "execution_count": null,
   "metadata": {
    "ExecuteTime": {
     "end_time": "2020-09-29T22:13:16.981829Z",
     "start_time": "2020-09-29T22:13:11.082816Z"
    }
   },
   "outputs": [],
   "source": [
    "sub = 'sub-219'\n",
    "ses = 'ses-itbs'\n",
    "\n",
    "fmr_data = Brain_Data(os.path.join(data_dir, 'derivatives', 'fmriprep', sub, ses, 'func', f'{sub}_{ses}_task-rest_run-1_space-MNI152NLin6Asym_desc-smoothAROMAnonaggr_bold.nii.gz'))"
   ]
  },
  {
   "cell_type": "markdown",
   "metadata": {},
   "source": [
    "Here are a few quick basic data operations.\n",
    "\n",
    "Find number of images in Brain_Data() instance"
   ]
  },
  {
   "cell_type": "code",
   "execution_count": null,
   "metadata": {
    "ExecuteTime": {
     "end_time": "2020-09-29T22:13:28.917934Z",
     "start_time": "2020-09-29T22:13:28.914982Z"
    },
    "tags": []
   },
   "outputs": [],
   "source": [
    "print(len(fmr_data))"
   ]
  },
  {
   "cell_type": "markdown",
   "metadata": {},
   "source": [
    "Find the dimensions of the data (images x voxels)"
   ]
  },
  {
   "cell_type": "code",
   "execution_count": null,
   "metadata": {
    "ExecuteTime": {
     "end_time": "2020-09-29T22:13:30.075507Z",
     "start_time": "2020-09-29T22:13:30.072573Z"
    }
   },
   "outputs": [],
   "source": [
    "print(fmr_data.shape())"
   ]
  },
  {
   "cell_type": "markdown",
   "metadata": {},
   "source": [
    "We can use any type of indexing to slice the data such as integers, lists of integers, slices, or boolean vectors."
   ]
  },
  {
   "cell_type": "code",
   "execution_count": null,
   "metadata": {
    "ExecuteTime": {
     "end_time": "2020-09-29T22:13:31.367688Z",
     "start_time": "2020-09-29T22:13:31.222083Z"
    }
   },
   "outputs": [],
   "source": [
    "import numpy as np\n",
    "\n",
    "print(fmr_data[5].shape())\n",
    "\n",
    "print(fmr_data[[1,6,2]].shape())\n",
    "\n",
    "print(fmr_data[0:10].shape())\n",
    "\n",
    "index = np.zeros(len(fmr_data), dtype=bool)\n",
    "index[[1,5,9, 16, 20, 22]] = True\n",
    "\n",
    "print(fmr_data[index].shape())"
   ]
  },
  {
   "cell_type": "markdown",
   "metadata": {},
   "source": [
    "### Simple Arithmetic Operations"
   ]
  },
  {
   "cell_type": "markdown",
   "metadata": {},
   "source": [
    "Calculate the mean for every voxel over images"
   ]
  },
  {
   "cell_type": "code",
   "execution_count": null,
   "metadata": {
    "ExecuteTime": {
     "end_time": "2020-09-29T22:13:33.668880Z",
     "start_time": "2020-09-29T22:13:33.618398Z"
    }
   },
   "outputs": [],
   "source": [
    "print(fmr_data.mean())"
   ]
  },
  {
   "cell_type": "markdown",
   "metadata": {},
   "source": [
    "Calculate the standard deviation for every voxel over images"
   ]
  },
  {
   "cell_type": "code",
   "execution_count": null,
   "metadata": {
    "ExecuteTime": {
     "end_time": "2020-09-29T22:13:35.606375Z",
     "start_time": "2020-09-29T22:13:35.452926Z"
    }
   },
   "outputs": [],
   "source": [
    "fmr_data.std()"
   ]
  },
  {
   "cell_type": "markdown",
   "metadata": {
    "ExecuteTime": {
     "end_time": "2019-05-08T13:12:49.659908Z",
     "start_time": "2019-05-08T13:12:49.656225Z"
    }
   },
   "source": [
    "Methods can be chained.  Here we get the shape of the mean."
   ]
  },
  {
   "cell_type": "code",
   "execution_count": null,
   "metadata": {
    "ExecuteTime": {
     "end_time": "2020-09-29T22:13:37.112701Z",
     "start_time": "2020-09-29T22:13:37.063199Z"
    }
   },
   "outputs": [],
   "source": [
    "print(fmr_data.mean().shape())"
   ]
  },
  {
   "cell_type": "markdown",
   "metadata": {},
   "source": [
    "Brain_Data instances can be added and subtracted"
   ]
  },
  {
   "cell_type": "code",
   "execution_count": null,
   "metadata": {
    "ExecuteTime": {
     "end_time": "2020-09-29T22:13:39.674014Z",
     "start_time": "2020-09-29T22:13:39.605831Z"
    }
   },
   "outputs": [],
   "source": [
    "new = fmr_data[1]+fmr_data[2]"
   ]
  },
  {
   "cell_type": "markdown",
   "metadata": {},
   "source": [
    "Brain_Data instances can be manipulated with basic arithmetic operations.\n",
    "\n",
    "Here we add 10 to every voxel and scale by 2"
   ]
  },
  {
   "cell_type": "code",
   "execution_count": null,
   "metadata": {
    "ExecuteTime": {
     "end_time": "2020-09-29T22:13:41.307468Z",
     "start_time": "2020-09-29T22:13:41.131915Z"
    }
   },
   "outputs": [],
   "source": [
    "fmr_data2 = (fmr_data + 10) * 2"
   ]
  },
  {
   "cell_type": "markdown",
   "metadata": {},
   "source": [
    "Brain_Data instances can be copied"
   ]
  },
  {
   "cell_type": "code",
   "execution_count": null,
   "metadata": {
    "ExecuteTime": {
     "end_time": "2020-09-29T22:13:43.406175Z",
     "start_time": "2020-09-29T22:13:43.381852Z"
    }
   },
   "outputs": [],
   "source": [
    "new = fmr_data.copy()"
   ]
  },
  {
   "cell_type": "markdown",
   "metadata": {},
   "source": [
    "Brain_Data instances can be easily converted to nibabel instances, which store the data in a 3D/4D matrix.  This is useful for interfacing with other python toolboxes such as [nilearn](http://nilearn.github.io)\n"
   ]
  },
  {
   "cell_type": "code",
   "execution_count": null,
   "metadata": {
    "ExecuteTime": {
     "end_time": "2020-09-29T22:13:45.248773Z",
     "start_time": "2020-09-29T22:13:44.757651Z"
    }
   },
   "outputs": [],
   "source": [
    "fmr_data.to_nifti()"
   ]
  },
  {
   "cell_type": "markdown",
   "metadata": {
    "ExecuteTime": {
     "end_time": "2019-05-08T13:14:02.331687Z",
     "start_time": "2019-05-08T13:14:02.327769Z"
    }
   },
   "source": [
    "Brain_Data instances can be concatenated using the append method"
   ]
  },
  {
   "cell_type": "code",
   "execution_count": null,
   "metadata": {
    "ExecuteTime": {
     "end_time": "2020-09-29T22:13:46.540595Z",
     "start_time": "2020-09-29T22:13:46.363168Z"
    }
   },
   "outputs": [],
   "source": [
    "new = new.append(fmr_data[4])"
   ]
  },
  {
   "cell_type": "markdown",
   "metadata": {},
   "source": [
    "Lists of `Brain_Data` instances can also be concatenated by recasting as a `Brain_Data` object."
   ]
  },
  {
   "cell_type": "code",
   "execution_count": null,
   "metadata": {
    "ExecuteTime": {
     "end_time": "2020-09-29T22:13:47.819005Z",
     "start_time": "2020-09-29T22:13:47.703755Z"
    }
   },
   "outputs": [],
   "source": [
    "print(type([x for x in fmr_data[:4]]))\n",
    "\n",
    "type(Brain_Data([x for x in fmr_data[:4]]))"
   ]
  },
  {
   "cell_type": "markdown",
   "metadata": {},
   "source": [
    "Any Brain_Data object can be written out to a nifti file."
   ]
  },
  {
   "cell_type": "code",
   "execution_count": null,
   "metadata": {
    "ExecuteTime": {
     "end_time": "2020-04-09T17:23:07.597636Z",
     "start_time": "2020-04-09T17:23:07.291507Z"
    }
   },
   "outputs": [],
   "source": [
    "fmr_data.write('data/outputs/Tmp_Data.nii.gz')"
   ]
  },
  {
   "cell_type": "markdown",
   "metadata": {},
   "source": [
    "Images within a Brain_Data() instance are iterable.  Here we use a list comprehension to calculate the overall mean across all voxels within an image."
   ]
  },
  {
   "cell_type": "code",
   "execution_count": null,
   "metadata": {
    "ExecuteTime": {
     "end_time": "2020-09-29T22:13:56.468723Z",
     "start_time": "2020-09-29T22:13:52.024966Z"
    }
   },
   "outputs": [],
   "source": [
    "[x.mean() for x in fmr_data]"
   ]
  },
  {
   "cell_type": "markdown",
   "metadata": {},
   "source": [
    "Though, we could also do this with the `mean` method by setting `axis=1`."
   ]
  },
  {
   "cell_type": "code",
   "execution_count": null,
   "metadata": {
    "ExecuteTime": {
     "end_time": "2020-09-29T22:13:58.306120Z",
     "start_time": "2020-09-29T22:13:58.255668Z"
    }
   },
   "outputs": [],
   "source": [
    "fmr_data.mean(axis=1)"
   ]
  },
  {
   "cell_type": "markdown",
   "metadata": {},
   "source": [
    "Let's plot the mean to see how the global signal changes over time."
   ]
  },
  {
   "cell_type": "code",
   "execution_count": null,
   "metadata": {
    "ExecuteTime": {
     "end_time": "2020-09-29T22:14:00.256383Z",
     "start_time": "2020-09-29T22:14:00.064736Z"
    }
   },
   "outputs": [],
   "source": [
    "plt.plot(fmr_data.mean(axis=1))"
   ]
  },
  {
   "cell_type": "markdown",
   "metadata": {},
   "source": [
    "Notice the slow linear drift over time, where the global signal intensity gradually decreases. We will learn how to remove this with a high pass filter in future tutorials."
   ]
  },
  {
   "cell_type": "markdown",
   "metadata": {},
   "source": [
    "### Plotting\n",
    "There are multiple ways to plot your data.\n",
    "\n",
    "For a very quick plot, you can return a montage of axial slices with the `.plot()` method. As an example, we will plot the mean of each voxel over time."
   ]
  },
  {
   "cell_type": "code",
   "execution_count": null,
   "metadata": {
    "ExecuteTime": {
     "end_time": "2020-09-29T22:14:04.261380Z",
     "start_time": "2020-09-29T22:14:02.709675Z"
    }
   },
   "outputs": [],
   "source": [
    "f = fmr_data.mean().plot()"
   ]
  },
  {
   "cell_type": "markdown",
   "metadata": {},
   "source": [
    "Brain_Data() instances can be converted to a nibabel instance and plotted using any nilearn plot method such as glass brain.\n"
   ]
  },
  {
   "cell_type": "code",
   "execution_count": null,
   "metadata": {
    "ExecuteTime": {
     "end_time": "2020-09-29T22:14:08.771273Z",
     "start_time": "2020-09-29T22:14:07.144530Z"
    }
   },
   "outputs": [],
   "source": [
    "plot_glass_brain(fmr_data.mean().to_nifti())"
   ]
  },
  {
   "cell_type": "markdown",
   "metadata": {},
   "source": [
    "Ok, that's the basics. `Brain_Data` can do much more!\n",
    "Check out some of our [tutorials](https://nltools.org/auto_examples/index.html) for more detailed examples.\n"
   ]
  }
 ],
 "metadata": {
  "kernelspec": {
   "display_name": "Python 3 (ipykernel)",
   "language": "python",
   "name": "python3"
  },
  "language_info": {
   "codemirror_mode": {
    "name": "ipython",
    "version": 3
   },
   "file_extension": ".py",
   "mimetype": "text/x-python",
   "name": "python",
   "nbconvert_exporter": "python",
   "pygments_lexer": "ipython3",
   "version": "3.10.5"
  },
  "toc": {
   "base_numbering": 1,
   "nav_menu": {},
   "number_sections": true,
   "sideBar": true,
   "skip_h1_title": false,
   "title_cell": "Table of Contents",
   "title_sidebar": "Contents",
   "toc_cell": false,
   "toc_position": {
    "height": "calc(100% - 180px)",
    "left": "10px",
    "top": "150px",
    "width": "236px"
   },
   "toc_section_display": true,
   "toc_window_display": true
  }
 },
 "nbformat": 4,
 "nbformat_minor": 4
}
