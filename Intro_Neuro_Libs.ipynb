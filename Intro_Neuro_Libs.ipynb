{
 "cells": [
  {
   "cell_type": "markdown",
   "metadata": {
    "tags": []
   },
   "source": [
    "# Manipulate Neuroimaging Data with Python"
   ]
  },
  {
   "cell_type": "markdown",
   "metadata": {},
   "source": [
    "This notebook is a revision of the excellent [Dartbrains Introductory Notebook](https://dartbrains.org/content/Introduction_to_Neuroimaging_Data.html)."
   ]
  },
  {
   "cell_type": "markdown",
   "metadata": {},
   "source": [
    "**TIP**: Some of these cells are slow to run! To determine whether a cell has been run, look at the square brackets on the left:\n",
    "- `[ ]` indicates the cell has not been run\n",
    "- `[*]` indicates the cell is running.  Be patient!\n",
    "- A number in the brackets, e.g., `[35]`, indicates that the cell has been run, and you can move on to the next one. "
   ]
  },
  {
   "cell_type": "markdown",
   "metadata": {
    "tags": []
   },
   "source": [
    "---\n",
    "# Neuroimaging Libraries"
   ]
  },
  {
   "cell_type": "markdown",
   "metadata": {
    "jp-MarkdownHeadingCollapsed": true,
    "tags": []
   },
   "source": [
    "Many Python neuroimaging libraries exist and more are being developed.    \n",
    "In this notebook, you will explore the following libraries:   \n",
    "- [PyBIDS](https://bids-standard.github.io/pybids/), a library for working with Brain Imaging Data Structure BIDS data\n",
    "- [NiBabel](https://nipy.org/packages/nilearn/index.html), Reads and writes common neuroimaging file formats.\n",
    "- [nilearn](https://nipy.org/packages/nilearn/index.html), Fast and easy statistical learning on neuroimaging data.\n",
    "- [NLTools](https://nltools.org/auto_examples/index.html), For analyzing neuroimaging data, including tools to perform data manipulation and analyses such as univariate GLMs, predictive multivariate modeling, and representational similarity analyses."
   ]
  },
  {
   "cell_type": "markdown",
   "metadata": {
    "tags": []
   },
   "source": [
    "---\n",
    "# Get the Data"
   ]
  },
  {
   "cell_type": "markdown",
   "metadata": {
    "jp-MarkdownHeadingCollapsed": true,
    "tags": []
   },
   "source": [
    "Download the data we will be using from [OSF](https://osf.io/5q3m8) with *wget*, unzip it and clean up the zip file."
   ]
  },
  {
   "cell_type": "code",
   "execution_count": null,
   "metadata": {},
   "outputs": [],
   "source": [
    "import os\n",
    "import wget\n",
    "import zipfile\n",
    "\n",
    "site_url = 'https://osf.io/5q3m8/download'\n",
    "\n",
    "if (not os.path.isdir('data')):\n",
    "    wget.download(site_url)\n",
    "    with zipfile.ZipFile('Jupyter_neuro_data.zip','r') as zip_ref: \n",
    "        zip_ref.extractall(path=None)"
   ]
  },
  {
   "cell_type": "code",
   "execution_count": null,
   "metadata": {},
   "outputs": [],
   "source": [
    "if os.path.exists('Jupyter_neuro_data.zip'):\n",
    "   os.remove('Jupyter_neuro_data.zip')"
   ]
  },
  {
   "cell_type": "markdown",
   "metadata": {
    "tags": []
   },
   "source": [
    "---\n",
    "\n",
    "# NiBabel"
   ]
  },
  {
   "cell_type": "markdown",
   "metadata": {},
   "source": [
    "Neuroimaging data is often stored in the format of NIfTI files `.nii` which can also be compressed using gzip `.nii.gz`.  These files store both 3D and 4D data and also contain structured metadata in the image **header**.\n",
    "\n",
    "There is an very nice tool to access NIfTI data stored on your file system in Python called [NiBabel](http://nipy.org/nibabel/).\n",
    "\n",
    "NiBabel objects can be initialized by specifying a NIfTI file, and you can specify the NIfTI file using BIDSLayout!  \n",
    "\n",
    "First, import the NiBabel module as `nib` (short and sweet so you don't have to type so much when using the tool).     \n",
    "Include a path to the data file so you don't have to constantly type this.     \n",
    "\n",
    "Below, we load an anatomical image (`nib.load`) from subject 219, using PyBIDS )`layout.get`) to specify the image."
   ]
  },
  {
   "cell_type": "code",
   "execution_count": null,
   "metadata": {
    "ExecuteTime": {
     "end_time": "2020-09-29T21:15:50.746756Z",
     "start_time": "2020-09-29T21:15:50.702604Z"
    }
   },
   "outputs": [],
   "source": [
    "import nibabel as nib\n",
    "\n",
    "# The following specifies the path to the data using BIDSLayout\n",
    "T1w_data = nib.load(layout.get(subject='219', session='itbs', suffix='T1w', return_type='file', extension='nii.gz')[0])\n"
   ]
  },
  {
   "cell_type": "markdown",
   "metadata": {},
   "source": [
    "## Get Information about the NiBabel Object\n",
    "To get more help on working with NiBabel data objects, either consult the [documentation](https://nipy.org/nibabel/tutorials.html#tutorials) or add a `?`."
   ]
  },
  {
   "cell_type": "code",
   "execution_count": null,
   "metadata": {
    "ExecuteTime": {
     "end_time": "2020-09-29T21:15:56.908243Z",
     "start_time": "2020-09-29T21:15:56.903579Z"
    }
   },
   "outputs": [],
   "source": [
    "T1w_data?"
   ]
  },
  {
   "cell_type": "markdown",
   "metadata": {
    "ExecuteTime": {
     "end_time": "2019-04-02T16:20:50.660143Z",
     "start_time": "2019-04-02T16:20:50.655870Z"
    }
   },
   "source": [
    "## Get the Object Dimensions with NiBabel\n",
    "The imaging data is stored in either a 3D or 4D numpy array. Just like numpy, it is easy to get the dimensions of the data using `shape`. "
   ]
  },
  {
   "cell_type": "code",
   "execution_count": null,
   "metadata": {
    "ExecuteTime": {
     "end_time": "2020-09-29T21:15:59.999441Z",
     "start_time": "2020-09-29T21:15:59.995663Z"
    }
   },
   "outputs": [],
   "source": [
    "T1w_data.shape"
   ]
  },
  {
   "cell_type": "markdown",
   "metadata": {},
   "source": [
    "## Plot a Slice of the Data Object with matplotlib\n",
    "Looks like there are 3 dimensions (x,y,z) that is the number of voxels in each dimension. If we know the voxel size, we could convert this into millimeters.\n",
    "\n",
    "We can also directly access the data and plot a single slice using standard matplotlib functions. "
   ]
  },
  {
   "cell_type": "code",
   "execution_count": null,
   "metadata": {
    "ExecuteTime": {
     "end_time": "2020-09-29T21:16:02.151823Z",
     "start_time": "2020-09-29T21:16:01.402427Z"
    }
   },
   "outputs": [],
   "source": [
    "%matplotlib inline\n",
    "\n",
    "import matplotlib.pyplot as plt\n",
    "\n",
    "plt.imshow(T1w_data.get_fdata()[:,:,100])"
   ]
  },
  {
   "cell_type": "markdown",
   "metadata": {},
   "source": [
    "## Plot Different Slices\n",
    "Try slicing different dimensions (x,y,z) to get a feel for how the data is represented in this anatomical image. You can do this by changing the values in the square brackets, e.g., try [100,:,:]"
   ]
  },
  {
   "cell_type": "markdown",
   "metadata": {},
   "source": [
    "## Look into the Image Header with NiBabel\n",
    "An image consists of two parts, the data and the header.  The header contains metadata. We can also access data from the image header. Let's assign the header of an image to a variable and print it to view it's contents."
   ]
  },
  {
   "cell_type": "code",
   "execution_count": null,
   "metadata": {
    "ExecuteTime": {
     "end_time": "2020-09-29T21:16:05.729442Z",
     "start_time": "2020-09-29T21:16:05.725124Z"
    }
   },
   "outputs": [],
   "source": [
    "header = T1w_data.header\n",
    "print(header)      "
   ]
  },
  {
   "cell_type": "markdown",
   "metadata": {
    "ExecuteTime": {
     "end_time": "2019-04-02T16:28:47.739625Z",
     "start_time": "2019-04-02T16:28:47.735681Z"
    }
   },
   "source": [
    "## Get the Affine Matrix with NiBabel\n",
    "Some of the important information in the header is information about the orientation of the image in space. This can be represented as the affine matrix, which can be used to transform images between different spaces."
   ]
  },
  {
   "cell_type": "code",
   "execution_count": null,
   "metadata": {
    "ExecuteTime": {
     "end_time": "2020-09-29T21:16:07.538935Z",
     "start_time": "2020-09-29T21:16:07.534918Z"
    }
   },
   "outputs": [],
   "source": [
    "T1w_data.affine"
   ]
  },
  {
   "cell_type": "markdown",
   "metadata": {
    "tags": []
   },
   "source": [
    "## Summary of NiBabel\n",
    "NiBabel is used to load images into Python. Once ther images are loaded, you can learn more about them by examining their headers. In addition, you can manipulate the images with Python libraries like matplotlib. Let's look at some other Python libraies for neuroimaging."
   ]
  },
  {
   "cell_type": "markdown",
   "metadata": {
    "tags": []
   },
   "source": [
    "---\n",
    "# Nilearn"
   ]
  },
  {
   "cell_type": "markdown",
   "metadata": {},
   "source": [
    "There are many useful tools from the [nilearn](https://nilearn.github.io/index.html) library to help manipulate and visualize neuroimaging data. See their [documentation](https://nilearn.github.io/plotting/index.html#different-plotting-functions) for examples.\n",
    "\n",
    "This section explores a few of their different plotting functions, which can work directly with NiBabel instances.\n",
    "\n",
    "Some of these functions are SLOW.  If the cell is marked like `[*]` then wait till it finishes running and gets assigned a number!"
   ]
  },
  {
   "cell_type": "code",
   "execution_count": null,
   "metadata": {
    "ExecuteTime": {
     "end_time": "2020-09-29T21:16:10.758691Z",
     "start_time": "2020-09-29T21:16:09.964725Z"
    }
   },
   "outputs": [],
   "source": [
    "%matplotlib inline\n",
    "\n",
    "from nilearn.plotting import view_img, plot_glass_brain, plot_anat, plot_epi"
   ]
  },
  {
   "cell_type": "markdown",
   "metadata": {},
   "source": [
    "## plot_anat"
   ]
  },
  {
   "cell_type": "code",
   "execution_count": null,
   "metadata": {
    "ExecuteTime": {
     "end_time": "2020-09-29T21:16:12.857157Z",
     "start_time": "2020-09-29T21:16:11.629361Z"
    },
    "scrolled": true
   },
   "outputs": [],
   "source": [
    "# This is a slow one!\n",
    "plot_anat(T1w_data)"
   ]
  },
  {
   "cell_type": "markdown",
   "metadata": {},
   "source": [
    "Nilearn plotting functions are very flexible and allow us to easily customize our plots.   "
   ]
  },
  {
   "cell_type": "code",
   "execution_count": null,
   "metadata": {
    "ExecuteTime": {
     "end_time": "2020-09-29T21:16:15.073114Z",
     "start_time": "2020-09-29T21:16:14.137816Z"
    }
   },
   "outputs": [],
   "source": [
    "plot_anat(T1w_data, draw_cross=False, display_mode='z')"
   ]
  },
  {
   "cell_type": "markdown",
   "metadata": {},
   "source": [
    "Try changing the display_mode to x or y."
   ]
  },
  {
   "cell_type": "markdown",
   "metadata": {},
   "source": [
    "## Get More Information about plot_anat\n",
    "Get more information about how to use the function with `?` and try to add different commands to change the plot.\n",
    "\n",
    "nilearn also has a neat interactive viewer called `view_img` for examining images directly in the notebook. "
   ]
  },
  {
   "cell_type": "code",
   "execution_count": null,
   "metadata": {},
   "outputs": [],
   "source": [
    "plot_anat?"
   ]
  },
  {
   "cell_type": "markdown",
   "metadata": {},
   "source": [
    "## view_img"
   ]
  },
  {
   "cell_type": "code",
   "execution_count": null,
   "metadata": {
    "ExecuteTime": {
     "end_time": "2020-09-29T21:16:18.447685Z",
     "start_time": "2020-09-29T21:16:16.793040Z"
    }
   },
   "outputs": [],
   "source": [
    "view_img(T1w_data)"
   ]
  },
  {
   "cell_type": "markdown",
   "metadata": {},
   "source": [
    "The `view_img` function is particularly useful for overlaying statistical maps on an anatomical image to interactively examine where the results are located.\n",
    "\n",
    "As an example, load a mask of the amygdala and try to find where it is located. Download it from [Neurovault](https://neurovault.org/images/18632/) using a function from NLTools."
   ]
  },
  {
   "cell_type": "code",
   "execution_count": null,
   "metadata": {
    "ExecuteTime": {
     "end_time": "2020-09-29T22:08:23.640540Z",
     "start_time": "2020-09-29T22:08:16.337376Z"
    }
   },
   "outputs": [],
   "source": [
    "from nltools.data import Brain_Data\n",
    "amygdala_mask = Brain_Data('https://neurovault.org/media/images/1290/FSL_BAmyg_thr0.nii.gz').to_nifti()\n",
    "\n",
    "view_img(amygdala_mask, T1w_data)"
   ]
  },
  {
   "cell_type": "markdown",
   "metadata": {},
   "source": [
    "## Glass Brain\n",
    "Plot a glass brain which allows us to see through the brain from different slice orientations. In this example, we will plot the binary amygdala mask."
   ]
  },
  {
   "cell_type": "code",
   "execution_count": null,
   "metadata": {
    "ExecuteTime": {
     "end_time": "2020-09-29T22:09:01.540549Z",
     "start_time": "2020-09-29T22:08:59.915693Z"
    }
   },
   "outputs": [],
   "source": [
    "plot_glass_brain(amygdala_mask)"
   ]
  },
  {
   "cell_type": "markdown",
   "metadata": {
    "tags": []
   },
   "source": [
    "---\n",
    "# NLTools (a.k.a Neurolearn)"
   ]
  },
  {
   "cell_type": "markdown",
   "metadata": {},
   "source": [
    "You've learned how to use NiBabel to load imaging data and nilearn to plot it.\n",
    "\n",
    "The NLTools package tries to make loading, plotting, and manipulating data easier. It uses many functions from NiBabel, nilearn, and other Python libraries. The bulk of the NLTools toolbox is built around the `Brain_Data()` class. The concept behind the class is to have a similar feel to a pandas dataframe, which means that it should feel intuitive to manipulate the data.\n",
    "\n",
    "The `Brain_Data()` class has several attributes that may be helpful to know about. First, it stores imaging data in `.data` as \"vectorized features x observations matrix\". \n",
    "\n",
    "- Each image is an observation and each voxel is a feature. \n",
    "- Space is flattened using `nifti_masker` from nilearn. \n",
    "- This object is also stored as an attribute in `.nifti_masker` to allow transformations from 2D to 3D/4D matrices. \n",
    "- In addition, a brain_mask is stored in `.mask`. \n",
    "- Finally, there are attributes to store either class labels for prediction/classification analyses in `.Y` and design matrices in `.X`. These are both expected to be pandas `DataFrames`.\n",
    "\n",
    "We will give a quick overview of basic Brain_Data operations, but we encourage you to see our [documentation](https://nltools.org/) for more details.\n",
    "\n",
    "## Brain_Data basics\n",
    "To get a feel for the `Brain_Data` class, load an example anatomical overlay image that comes packaged with the toolbox."
   ]
  },
  {
   "cell_type": "code",
   "execution_count": null,
   "metadata": {
    "ExecuteTime": {
     "end_time": "2020-09-29T22:09:05.431045Z",
     "start_time": "2020-09-29T22:09:05.230515Z"
    }
   },
   "outputs": [],
   "source": [
    "from nltools.data import Brain_Data\n",
    "from nltools.utils import get_anatomical\n",
    "\n",
    "anat = Brain_Data(get_anatomical())\n",
    "anat"
   ]
  },
  {
   "cell_type": "markdown",
   "metadata": {},
   "source": [
    "### Brain_Data View Attributes\n",
    "To view the attributes of `Brain_Data` use the `vars()` function."
   ]
  },
  {
   "cell_type": "code",
   "execution_count": null,
   "metadata": {
    "ExecuteTime": {
     "end_time": "2020-09-29T22:09:07.554423Z",
     "start_time": "2020-09-29T22:09:07.544905Z"
    }
   },
   "outputs": [],
   "source": [
    "print(vars(anat))"
   ]
  },
  {
   "cell_type": "markdown",
   "metadata": {},
   "source": [
    "`Brain_Data` has many methods to help manipulate, plot, and analyze imaging data. We can use the `dir()` function to get a quick list of all of the available methods that can be used on this class.\n",
    "\n",
    "To learn more about how to use these tools either use the `?` function, or look up the function in the [api documentation](https://nltools.org/api.html).\n"
   ]
  },
  {
   "cell_type": "code",
   "execution_count": null,
   "metadata": {
    "ExecuteTime": {
     "end_time": "2020-09-29T22:09:09.905266Z",
     "start_time": "2020-09-29T22:09:09.901200Z"
    }
   },
   "outputs": [],
   "source": [
    "print(dir(anat))"
   ]
  },
  {
   "cell_type": "markdown",
   "metadata": {},
   "source": [
    "Ok, now let's load a single subject's functional data from the run 1 resting state dataset. We will load one that has already been preprocessed with fmriprep and is stored in the derivatives folder.\n",
    "\n",
    "### Load Data\n",
    "Loading data can be **slow** especially if the data need to be resampled to the template, which is set at $2mm^3$ by default. However, once it's loaded into the workspace it should be relatively fast to work with it.\n"
   ]
  },
  {
   "cell_type": "code",
   "execution_count": null,
   "metadata": {
    "ExecuteTime": {
     "end_time": "2020-09-29T22:13:16.981829Z",
     "start_time": "2020-09-29T22:13:11.082816Z"
    }
   },
   "outputs": [],
   "source": [
    "sub = 'sub-219'\n",
    "ses = 'ses-itbs'\n",
    "\n",
    "fmr_data = Brain_Data(os.path.join(data_dir, 'derivatives', 'fmriprep', sub, ses, 'func', f'{sub}_{ses}_task-rest_run-1_space-MNI152NLin6Asym_desc-smoothAROMAnonaggr_bold.nii.gz'))"
   ]
  },
  {
   "cell_type": "markdown",
   "metadata": {},
   "source": [
    "Here are a few quick basic data operations.\n",
    "\n",
    "### Print Information about the Dimensions of the Dataset \n",
    "Find the number of image volumes in the Brain_Data() instance. This example is a 4D fMRI image with 177 volumes. "
   ]
  },
  {
   "cell_type": "code",
   "execution_count": null,
   "metadata": {
    "ExecuteTime": {
     "end_time": "2020-09-29T22:13:28.917934Z",
     "start_time": "2020-09-29T22:13:28.914982Z"
    },
    "tags": []
   },
   "outputs": [],
   "source": [
    "print(len(fmr_data))"
   ]
  },
  {
   "cell_type": "markdown",
   "metadata": {},
   "source": [
    "Find the dimensions of Brain_Data (images x voxels).  The number of voxels from each volume included in the Brain_Data is determined by the brain mask (the 2mm MNI space brain mask you loaded earlier)."
   ]
  },
  {
   "cell_type": "code",
   "execution_count": null,
   "metadata": {
    "ExecuteTime": {
     "end_time": "2020-09-29T22:13:30.075507Z",
     "start_time": "2020-09-29T22:13:30.072573Z"
    }
   },
   "outputs": [],
   "source": [
    "print(fmr_data.shape())"
   ]
  },
  {
   "cell_type": "markdown",
   "metadata": {},
   "source": [
    "### Learn more about Brain_Data"
   ]
  },
  {
   "cell_type": "code",
   "execution_count": null,
   "metadata": {},
   "outputs": [],
   "source": [
    "Brain_Data?"
   ]
  },
  {
   "cell_type": "markdown",
   "metadata": {},
   "source": [
    "### Copy the image data\n",
    "You can copy the Brain_Data object"
   ]
  },
  {
   "cell_type": "code",
   "execution_count": null,
   "metadata": {},
   "outputs": [],
   "source": [
    "fmr_data2 = fmr_data.copy()"
   ]
  },
  {
   "cell_type": "markdown",
   "metadata": {},
   "source": [
    "### Apply mathematical operations\n",
    "Alternatively, you can make a modified copy of the data. This example adds 10 to each voxel and multiplies by 2.\n",
    "Note that most neuroimaging packages contain these sorts of element-by-element mathematical operations."
   ]
  },
  {
   "cell_type": "code",
   "execution_count": null,
   "metadata": {},
   "outputs": [],
   "source": [
    "fmr_data2 = (fmr_data + 10) * 2"
   ]
  },
  {
   "cell_type": "markdown",
   "metadata": {},
   "source": [
    "### Remove the linear trend from every voxel\n",
    "Create another dataset with detrended time series for each voxel "
   ]
  },
  {
   "cell_type": "code",
   "execution_count": null,
   "metadata": {},
   "outputs": [],
   "source": [
    "fmr_detrend = fmr_data.detrend()\n",
    "# Return the datatype\n",
    "fmr_detrend.dtype()"
   ]
  },
  {
   "cell_type": "markdown",
   "metadata": {},
   "source": [
    "### List the Current variables\n",
    "Use the iPython magic command [whos](https://iPython.readthedocs.io/en/stable/interactive/magics.html?highlight=%25whos#magic-whos)"
   ]
  },
  {
   "cell_type": "code",
   "execution_count": null,
   "metadata": {},
   "outputs": [],
   "source": [
    "%whos"
   ]
  },
  {
   "cell_type": "markdown",
   "metadata": {},
   "source": [
    "### Plotting examples\n",
    "Whether you plot the `mean` or `std`, note how the range of the y-axis changes if you plot `fmr_data` vs `fmr_data2` vs `fmr_detrend`.  Change the examples to plot std instead."
   ]
  },
  {
   "cell_type": "code",
   "execution_count": null,
   "metadata": {},
   "outputs": [],
   "source": [
    "plt.plot(fmr_data.mean(axis=1))"
   ]
  },
  {
   "cell_type": "code",
   "execution_count": null,
   "metadata": {},
   "outputs": [],
   "source": [
    "# fmr_data2 had 10 added to each voxel and was then doubled\n",
    "plt.plot(fmr_data2.mean(axis=1))"
   ]
  },
  {
   "cell_type": "code",
   "execution_count": null,
   "metadata": {},
   "outputs": [],
   "source": [
    "plt.plot(fmr_detrend.mean(axis=1))"
   ]
  },
  {
   "cell_type": "markdown",
   "metadata": {},
   "source": [
    "###  Concatenate Brain_Data\n",
    "We have several Brain_Data objects now.  It is possible to concatenate them."
   ]
  },
  {
   "cell_type": "code",
   "execution_count": null,
   "metadata": {},
   "outputs": [],
   "source": [
    "fmr_concat=fmr_data.append(fmr_data2)"
   ]
  },
  {
   "cell_type": "code",
   "execution_count": null,
   "metadata": {},
   "outputs": [],
   "source": [
    "# Print the length of the new Brain_Data object to see that it is indeed 2*177\n",
    "print(len(fmr_concat))"
   ]
  },
  {
   "cell_type": "markdown",
   "metadata": {},
   "source": [
    "### Brain_Data to NIfTI\n",
    "Brain_Data instances can be easily converted to NiBabel instances, which store the data in a 3D/4D matrix.  This is useful for interfacing with other Python toolboxes such as [nilearn](http://nilearn.github.io)"
   ]
  },
  {
   "cell_type": "code",
   "execution_count": null,
   "metadata": {
    "ExecuteTime": {
     "end_time": "2020-09-29T22:13:45.248773Z",
     "start_time": "2020-09-29T22:13:44.757651Z"
    }
   },
   "outputs": [],
   "source": [
    "fmr_data.to_nifti()"
   ]
  },
  {
   "cell_type": "markdown",
   "metadata": {},
   "source": [
    "Brain_Data objects can also be written out to disk as NIfTI images."
   ]
  },
  {
   "cell_type": "code",
   "execution_count": null,
   "metadata": {
    "ExecuteTime": {
     "end_time": "2020-04-09T17:23:07.597636Z",
     "start_time": "2020-04-09T17:23:07.291507Z"
    }
   },
   "outputs": [],
   "source": [
    "fmr_data.write('data/outputs/Tmp_Data.nii.gz')"
   ]
  },
  {
   "cell_type": "markdown",
   "metadata": {},
   "source": [
    "Lists of `Brain_Data` instances can also be concatenated by recasting as a `Brain_Data` object."
   ]
  },
  {
   "cell_type": "code",
   "execution_count": null,
   "metadata": {
    "ExecuteTime": {
     "end_time": "2020-09-29T22:13:47.819005Z",
     "start_time": "2020-09-29T22:13:47.703755Z"
    }
   },
   "outputs": [],
   "source": [
    "print(type([x for x in fmr_data[:4]]))\n",
    "\n",
    "type(Brain_Data([x for x in fmr_data[:4]]))"
   ]
  },
  {
   "cell_type": "markdown",
   "metadata": {},
   "source": [
    "Images within a Brain_Data() instance are iterable.  Here we use a list comprehension to calculate the overall mean across all voxels within an image."
   ]
  },
  {
   "cell_type": "code",
   "execution_count": null,
   "metadata": {
    "ExecuteTime": {
     "end_time": "2020-09-29T22:13:56.468723Z",
     "start_time": "2020-09-29T22:13:52.024966Z"
    }
   },
   "outputs": [],
   "source": [
    "[x.mean() for x in fmr_data]"
   ]
  },
  {
   "cell_type": "markdown",
   "metadata": {},
   "source": [
    "Though, we could also do this with the `mean` method by setting `axis=1`."
   ]
  },
  {
   "cell_type": "code",
   "execution_count": null,
   "metadata": {
    "ExecuteTime": {
     "end_time": "2020-09-29T22:13:58.306120Z",
     "start_time": "2020-09-29T22:13:58.255668Z"
    }
   },
   "outputs": [],
   "source": [
    "fmr_data.mean(axis=1)"
   ]
  },
  {
   "cell_type": "markdown",
   "metadata": {},
   "source": [
    "Let's plot the mean to see how the global signal changes over time."
   ]
  },
  {
   "cell_type": "code",
   "execution_count": null,
   "metadata": {
    "ExecuteTime": {
     "end_time": "2020-09-29T22:14:00.256383Z",
     "start_time": "2020-09-29T22:14:00.064736Z"
    }
   },
   "outputs": [],
   "source": [
    "plt.plot(fmr_data.mean(axis=1))"
   ]
  },
  {
   "cell_type": "markdown",
   "metadata": {},
   "source": [
    "Notice the slow linear drift over time, where the global signal intensity gradually decreases. We will learn how to remove this with a high pass filter in future tutorials."
   ]
  },
  {
   "cell_type": "markdown",
   "metadata": {},
   "source": [
    "### Plotting\n",
    "There are multiple ways to plot your data.\n",
    "\n",
    "For a very quick plot, you can return a montage of axial slices with the `.plot()` method. As an example, we will plot the mean of each voxel over time."
   ]
  },
  {
   "cell_type": "code",
   "execution_count": null,
   "metadata": {
    "ExecuteTime": {
     "end_time": "2020-09-29T22:14:04.261380Z",
     "start_time": "2020-09-29T22:14:02.709675Z"
    }
   },
   "outputs": [],
   "source": [
    "f = fmr_data.mean().plot()"
   ]
  },
  {
   "cell_type": "markdown",
   "metadata": {},
   "source": [
    "Brain_Data() instances can be converted to a NiBabel instance and plotted using any nilearn plot method such as glass brain.\n"
   ]
  },
  {
   "cell_type": "code",
   "execution_count": null,
   "metadata": {
    "ExecuteTime": {
     "end_time": "2020-09-29T22:14:08.771273Z",
     "start_time": "2020-09-29T22:14:07.144530Z"
    }
   },
   "outputs": [],
   "source": [
    "plot_glass_brain(fmr_data.mean().to_nifti())"
   ]
  },
  {
   "cell_type": "markdown",
   "metadata": {},
   "source": [
    "Ok, that's the basics. `Brain_Data` can do much more!\n",
    "Check out some of our [tutorials](https://nltools.org/auto_examples/index.html) for more detailed examples.\n"
   ]
  }
 ],
 "metadata": {
  "kernelspec": {
   "display_name": "Python 3 (ipykernel)",
   "language": "python",
   "name": "python3"
  },
  "language_info": {
   "codemirror_mode": {
    "name": "ipython",
    "version": 3
   },
   "file_extension": ".py",
   "mimetype": "text/x-python",
   "name": "python",
   "nbconvert_exporter": "python",
   "pygments_lexer": "ipython3",
   "version": "3.10.5"
  },
  "toc": {
   "base_numbering": 1,
   "nav_menu": {},
   "number_sections": true,
   "sideBar": true,
   "skip_h1_title": false,
   "title_cell": "Table of Contents",
   "title_sidebar": "Contents",
   "toc_cell": false,
   "toc_position": {
    "height": "calc(100% - 180px)",
    "left": "10px",
    "top": "150px",
    "width": "236px"
   },
   "toc_section_display": true,
   "toc_window_display": true
  },
  "toc-autonumbering": false,
  "toc-showmarkdowntxt": false
 },
 "nbformat": 4,
 "nbformat_minor": 4
}
