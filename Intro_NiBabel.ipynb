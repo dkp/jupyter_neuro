{
 "cells": [
  {
   "cell_type": "markdown",
   "metadata": {
    "tags": []
   },
   "source": [
    "# Load and Explore Neuroimaging Data with NiBabel in Python"
   ]
  },
  {
   "cell_type": "markdown",
   "metadata": {},
   "source": [
    "This notebook combines the excellent [Dartbrains Introductory Notebook](https://dartbrains.org/content/Introduction_to_Neuroimaging_Data.html).\n",
    "and [Christopher J Markiewicz's NeuroHackademy 2020 Notebook](https://nbviewer.org/github/neurohackademy/nh2020-curriculum/blob/master/we-nibabel-markiewicz/NiBabel.ipynb)"
   ]
  },
  {
   "cell_type": "markdown",
   "metadata": {},
   "source": [
    "**TIP**: Some of these cells are slow to run! To determine whether a cell has been run, look at the square brackets on the left:\n",
    "- `[ ]` indicates the cell has not been run\n",
    "- `[*]` indicates the cell is running.  Be patient!\n",
    "- A number in the brackets, e.g., `[35]`, indicates that the cell has been run, and you can move on to the next one. \n",
    "\n",
    "Many Python neuroimaging libraries exist and more are being developed.    \n",
    "In this notebook, you will explore [NiBabel](https://nipy.org/packages/nilearn/index.html) which reads and writes common neuroimaging file formats."
   ]
  },
  {
   "cell_type": "markdown",
   "metadata": {
    "tags": []
   },
   "source": [
    "# Get the Data"
   ]
  },
  {
   "cell_type": "markdown",
   "metadata": {
    "jp-MarkdownHeadingCollapsed": true,
    "tags": []
   },
   "source": [
    "Download the data we will be using from [OSF](https://osf.io/5q3m8) with *wget*, unzip it and remove the zip file."
   ]
  },
  {
   "cell_type": "code",
   "execution_count": null,
   "metadata": {},
   "outputs": [],
   "source": [
    "import os\n",
    "import wget\n",
    "import zipfile\n",
    "import numpy as np\n",
    "\n",
    "site_url = 'https://osf.io/5q3m8/download'\n",
    "\n",
    "if (not os.path.isdir('data')):\n",
    "    wget.download(site_url)\n",
    "    with zipfile.ZipFile('Jupyter_neuro_data.zip','r') as zip_ref: \n",
    "        zip_ref.extractall(path=None)"
   ]
  },
  {
   "cell_type": "code",
   "execution_count": null,
   "metadata": {},
   "outputs": [],
   "source": [
    "if os.path.exists('Jupyter_neuro_data.zip'):\n",
    "   os.remove('Jupyter_neuro_data.zip')"
   ]
  },
  {
   "cell_type": "markdown",
   "metadata": {},
   "source": [
    "Now load the data using BIDSLayout from PyBIDS:"
   ]
  },
  {
   "cell_type": "code",
   "execution_count": null,
   "metadata": {
    "ExecuteTime": {
     "end_time": "2020-09-29T21:13:29.236522Z",
     "start_time": "2020-09-29T21:13:26.118137Z"
    }
   },
   "outputs": [],
   "source": [
    "from bids import BIDSLayout, BIDSValidator\n",
    "\n",
    "data_dir = 'data/inputs'\n",
    "layout = BIDSLayout(data_dir, derivatives=False)"
   ]
  },
  {
   "cell_type": "markdown",
   "metadata": {
    "tags": []
   },
   "source": [
    "# Load Data with NiBabel"
   ]
  },
  {
   "cell_type": "markdown",
   "metadata": {},
   "source": [
    "NiBabel objects can be initialized by specifying a file path to a NIfTI file, and you can find the NIfTI file path using BIDSLayout.  \n",
    "\n",
    "First, import the NiBabel module as `nib` (a short and sweet alias so that you don't have to type so much when using the tool).     \n",
    "\n",
    "Our data set has only one T1w image for subject 219, so you can select it using BIDSLayout and load it using NiBabel:"
   ]
  },
  {
   "cell_type": "code",
   "execution_count": null,
   "metadata": {
    "ExecuteTime": {
     "end_time": "2020-09-29T21:15:50.746756Z",
     "start_time": "2020-09-29T21:15:50.702604Z"
    }
   },
   "outputs": [],
   "source": [
    "import nibabel as nib\n",
    "\n",
    "# Load an anatomical image from subject 219 using PyBIDS. We KNOW we only have one in this example.\n",
    "file_list = layout.get(subject='219', session='itbs', suffix='T1w', return_type='file', extension='nii.gz')\n",
    "\n",
    "# Now load the data using NiBabel. Data does NOT have to be in a BIDS data structure to be loaded with NiBabel.\n",
    "T1w_image = nib.load(file_list[0])  # select the ONE image"
   ]
  },
  {
   "cell_type": "markdown",
   "metadata": {},
   "source": [
    "## Get Information about the NiBabel Object\n",
    "When working with NiBabel data objects, you can consult the [online documentation](https://nipy.org/nibabel/tutorials.html#tutorials). More conveniently, you can query a variable by appending a question mark (`?`) to reveal details such as the characteristics of an object and parameters to retrieve more information."
   ]
  },
  {
   "cell_type": "code",
   "execution_count": null,
   "metadata": {
    "ExecuteTime": {
     "end_time": "2020-09-29T21:15:56.908243Z",
     "start_time": "2020-09-29T21:15:56.903579Z"
    }
   },
   "outputs": [],
   "source": [
    "T1w_image?"
   ]
  },
  {
   "cell_type": "markdown",
   "metadata": {},
   "source": [
    "### Try This!\n",
    "Add a cell and append two question marks instead of one. "
   ]
  },
  {
   "cell_type": "markdown",
   "metadata": {},
   "source": [
    "Note that this is different from the information that is shown by the Python `print` function:"
   ]
  },
  {
   "cell_type": "code",
   "execution_count": null,
   "metadata": {},
   "outputs": [],
   "source": [
    "print(T1w_image)"
   ]
  },
  {
   "cell_type": "markdown",
   "metadata": {},
   "source": [
    "### View the Image Header\n",
    "\n",
    "An image consists of two parts, the data and the header. The header contains image metadata which you can access through the `Nifti1Image` object:"
   ]
  },
  {
   "cell_type": "code",
   "execution_count": null,
   "metadata": {
    "ExecuteTime": {
     "end_time": "2020-09-29T21:16:05.729442Z",
     "start_time": "2020-09-29T21:16:05.725124Z"
    }
   },
   "outputs": [],
   "source": [
    "T1w_image.header"
   ]
  },
  {
   "cell_type": "code",
   "execution_count": null,
   "metadata": {
    "ExecuteTime": {
     "end_time": "2020-09-29T21:16:05.729442Z",
     "start_time": "2020-09-29T21:16:05.725124Z"
    }
   },
   "outputs": [],
   "source": [
    "print(T1w_image.header)"
   ]
  },
  {
   "cell_type": "markdown",
   "metadata": {
    "ExecuteTime": {
     "end_time": "2019-04-02T16:28:47.739625Z",
     "start_time": "2019-04-02T16:28:47.735681Z"
    }
   },
   "source": [
    "### View the Affine Matrix\n",
    "\n",
    "The orientation of the image in space is represented in the header as an affine matrix. The affine matrix can be used to transform images between different spaces. View the matrix for our image:"
   ]
  },
  {
   "cell_type": "code",
   "execution_count": null,
   "metadata": {},
   "outputs": [],
   "source": [
    "affine = T1w_image.affine\n",
    "affine"
   ]
  },
  {
   "cell_type": "code",
   "execution_count": null,
   "metadata": {},
   "outputs": [],
   "source": [
    "print(\"Orientation:\", nib.aff2axcodes(affine))"
   ]
  },
  {
   "cell_type": "markdown",
   "metadata": {},
   "source": [
    "Convert the center point in world coordinates to voxel coordinates and get intensity at center point:"
   ]
  },
  {
   "cell_type": "code",
   "execution_count": null,
   "metadata": {},
   "outputs": [],
   "source": [
    "i, j, k, _ = np.linalg.pinv(affine) @ [0, 0, 0, 1]\n",
    "print(f\"Center: ({int(i)}, {int(j)}, {int(k)})\")\n",
    "print(f\"Value: \", image_data[int(i), int(j), int(k)])"
   ]
  },
  {
   "cell_type": "code",
   "execution_count": null,
   "metadata": {},
   "outputs": [],
   "source": [
    "header = T1w_image.header\n",
    "header.get_zooms()  # returns voxel sizes"
   ]
  },
  {
   "cell_type": "markdown",
   "metadata": {
    "ExecuteTime": {
     "end_time": "2019-04-02T16:20:50.660143Z",
     "start_time": "2019-04-02T16:20:50.655870Z"
    }
   },
   "source": [
    "### View the Object Dimensions\n",
    "\n",
    "The `Nifti1Image` object stores the image data in either a 3D or 4D NumPy array. Just like NumPy, it is easy to get the dimensions and shape of the data using `ndim` and `shape`:"
   ]
  },
  {
   "cell_type": "code",
   "execution_count": null,
   "metadata": {
    "ExecuteTime": {
     "end_time": "2020-09-29T21:15:59.999441Z",
     "start_time": "2020-09-29T21:15:59.995663Z"
    }
   },
   "outputs": [],
   "source": [
    "T1w_image.ndim"
   ]
  },
  {
   "cell_type": "code",
   "execution_count": null,
   "metadata": {
    "ExecuteTime": {
     "end_time": "2020-09-29T21:15:59.999441Z",
     "start_time": "2020-09-29T21:15:59.995663Z"
    }
   },
   "outputs": [],
   "source": [
    "T1w_image.shape"
   ]
  },
  {
   "cell_type": "code",
   "execution_count": null,
   "metadata": {
    "ExecuteTime": {
     "end_time": "2020-09-29T21:15:59.999441Z",
     "start_time": "2020-09-29T21:15:59.995663Z"
    }
   },
   "outputs": [],
   "source": [
    "# several more properties of the internal numpy array are accessible through the dataobj attribute:\n",
    "dir(T1w_image.dataobj)"
   ]
  },
  {
   "cell_type": "markdown",
   "metadata": {},
   "source": [
    "## Plot a Slice of the Data Object with matplotlib\n",
    "\n",
    "As you have seen, this is a 3D image. Directly access the image data and plot a single slice using standard matplotlib functions: "
   ]
  },
  {
   "cell_type": "code",
   "execution_count": null,
   "metadata": {
    "ExecuteTime": {
     "end_time": "2020-09-29T21:16:02.151823Z",
     "start_time": "2020-09-29T21:16:01.402427Z"
    }
   },
   "outputs": [],
   "source": [
    "%matplotlib inline\n",
    "\n",
    "import matplotlib.pyplot as plt\n",
    "\n",
    "image_data = T1w_image.get_fdata()\n",
    "sslice = image_data[80,:,:]\n",
    "_ = plt.imshow(sslice, origin='lower')  # origin argument maintains the L-R, P-A origins of this image"
   ]
  },
  {
   "cell_type": "markdown",
   "metadata": {},
   "source": [
    "To see a view in standard orientation, transpose the slice before plotting it."
   ]
  },
  {
   "cell_type": "code",
   "execution_count": null,
   "metadata": {
    "ExecuteTime": {
     "end_time": "2020-09-29T21:16:02.151823Z",
     "start_time": "2020-09-29T21:16:01.402427Z"
    }
   },
   "outputs": [],
   "source": [
    "# In this call `_=` prevents the output from listing the class of the object.  \n",
    "# This just makes the output prettier.\n",
    "\n",
    "_ = plt.imshow(sslice.transpose([1,0]), origin='lower')"
   ]
  },
  {
   "cell_type": "markdown",
   "metadata": {
    "tags": []
   },
   "source": [
    "As a shortcut, we can use the `T` attribute of the slice to do the same transpose:"
   ]
  },
  {
   "cell_type": "code",
   "execution_count": null,
   "metadata": {},
   "outputs": [],
   "source": [
    "_ = plt.imshow(sslice.T, origin='lower')"
   ]
  },
  {
   "cell_type": "markdown",
   "metadata": {},
   "source": [
    "Since we have the 3D image data, we can plot along any axis:"
   ]
  },
  {
   "cell_type": "code",
   "execution_count": null,
   "metadata": {},
   "outputs": [],
   "source": [
    "aslice = image_data[:,:,150]\n",
    "print(aslice.shape)\n",
    "_ = plt.imshow(aslice.T, origin='lower')"
   ]
  },
  {
   "cell_type": "markdown",
   "metadata": {},
   "source": [
    "### Plot Different Slices\n",
    "\n",
    "For the sagittal view, you retrieved a slice for the first dimension (i.e., [80,:,:].  For the axial view, you retrieved a value for the third dimension [:,:,150]. \n",
    "\n",
    "How would you access a coronal view?"
   ]
  },
  {
   "cell_type": "markdown",
   "metadata": {},
   "source": [
    "### NiBabel OrthoViewer\n",
    "Instead of using Matplotlib, NiBabel offers a viewer that scales the voxels to reflect their size, includes all three orthogonal views, and labels orientations."
   ]
  },
  {
   "cell_type": "code",
   "execution_count": null,
   "metadata": {},
   "outputs": [],
   "source": [
    "T1w_image.orthoview()"
   ]
  },
  {
   "cell_type": "markdown",
   "metadata": {},
   "source": [
    "## Summary of NiBabel\n",
    "\n",
    "NiBabel is used to load images into Python. Once the images are loaded, you can learn more about them by examining their headers. In addition, you can view and manipulate the images with Python libraries like matplotlib. Let's look at some other Python libraies for neuroimaging."
   ]
  },
  {
   "cell_type": "code",
   "execution_count": null,
   "metadata": {},
   "outputs": [],
   "source": []
  }
 ],
 "metadata": {
  "kernelspec": {
   "display_name": "Python 3 (ipykernel)",
   "language": "python",
   "name": "python3"
  },
  "language_info": {
   "codemirror_mode": {
    "name": "ipython",
    "version": 3
   },
   "file_extension": ".py",
   "mimetype": "text/x-python",
   "name": "python",
   "nbconvert_exporter": "python",
   "pygments_lexer": "ipython3",
   "version": "3.10.5"
  },
  "toc": {
   "base_numbering": 1,
   "nav_menu": {},
   "number_sections": true,
   "sideBar": true,
   "skip_h1_title": false,
   "title_cell": "Table of Contents",
   "title_sidebar": "Contents",
   "toc_cell": false,
   "toc_position": {
    "height": "calc(100% - 180px)",
    "left": "10px",
    "top": "150px",
    "width": "236px"
   },
   "toc_section_display": true,
   "toc_window_display": true
  },
  "toc-autonumbering": true,
  "toc-showmarkdowntxt": false
 },
 "nbformat": 4,
 "nbformat_minor": 4
}
