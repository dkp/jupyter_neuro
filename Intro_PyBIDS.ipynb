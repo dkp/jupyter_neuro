{
 "cells": [
  {
   "cell_type": "markdown",
   "metadata": {
    "tags": []
   },
   "source": [
    "# BIDS: Brain Imaging Dataset Specification and PyBIDS"
   ]
  },
  {
   "cell_type": "markdown",
   "metadata": {
    "tags": []
   },
   "source": [
    "This notebook is a revision of the excellent [Dartbrains Introductory Notebook](https://dartbrains.org/content/Introduction_to_Neuroimaging_Data.html).\n",
    "\n",
    "**BIDS**: There has been a growing interest in sharing datasets across labs and even on public repositories such as [openneuro](https://openneuro.org/). To succeed we need standards for naming and organizing data. Historically, each lab has used their own idiosyncratic conventions, which can make it difficult for outsiders to analyze. In the past few years, there have been heroic efforts by the neuroimaging community to create a standardized file organization and naming practices. This specification is called **BIDS** for [Brain Imaging Dataset Specification](http://bids.neuroimaging.io/).\n",
    "\n",
    "**PyBIDS**: Because BIDS is a consistent format, it is possible to use a Python package to make it easy to query a dataset. [PyBIDS](https://github.com/bids-standard/pybids) is a set of tools for doing just that, working with Brain Imaging Data Structure (BIDS) datasets. This notebook allows you to explore its capabilities.  "
   ]
  },
  {
   "cell_type": "markdown",
   "metadata": {},
   "source": [
    "**TIP**: Some of these cells are slow to run! To determine whether a cell has been run, look at the square brackets on the left:\n",
    "- `[ ]` indicates the cell has not been run\n",
    "- `[*]` indicates the cell is running.  Be patient!\n",
    "- A number in the brackets, e.g., `[35]`, indicates that the cell has been run, and you can move on to the next one. "
   ]
  },
  {
   "cell_type": "markdown",
   "metadata": {
    "tags": []
   },
   "source": [
    "# Get the Data"
   ]
  },
  {
   "cell_type": "markdown",
   "metadata": {
    "jp-MarkdownHeadingCollapsed": true,
    "tags": []
   },
   "source": [
    "Download the dataset from [OSF](https://osf.io/5q3m8)."
   ]
  },
  {
   "cell_type": "code",
   "execution_count": null,
   "metadata": {},
   "outputs": [],
   "source": [
    "import os\n",
    "import wget\n",
    "import zipfile\n",
    "\n",
    "site_url = 'https://osf.io/6gm3j/download'\n",
    "\n",
    "# Download the data with wget and unzip it to create the data directory. The BIDS dataset is in data/inputs.\n",
    "if (not os.path.isdir('data')):\n",
    "    wget.download(site_url)\n",
    "    with zipfile.ZipFile('Jupyter_pybids_data.zip','r') as zip_ref: \n",
    "        zip_ref.extractall(path=None)"
   ]
  },
  {
   "cell_type": "code",
   "execution_count": null,
   "metadata": {},
   "outputs": [],
   "source": [
    "# Remove the zip file to save space\n",
    "if os.path.exists('Jupyter_pybids_data.zip'):\n",
    "   os.remove('Jupyter_pybids_data.zip')"
   ]
  },
  {
   "cell_type": "markdown",
   "metadata": {
    "tags": []
   },
   "source": [
    "# PyBIDS: BIDSLayout"
   ]
  },
  {
   "cell_type": "markdown",
   "metadata": {
    "jp-MarkdownHeadingCollapsed": true,
    "tags": []
   },
   "source": [
    "[PyBIDS](https://github.com/bids-standard/pybids) is a package to help query and navigate a BIDS neuroimaging dataset. At the core of PyBIDS is the `BIDSLayout` object. A `BIDSLayout` is a lightweight Python class that represents a BIDS project file tree and provides a variety of helpful methods for querying and manipulating BIDS files. While the BIDSLayout initializer has a large number of arguments you can use to control the way files are indexed and accessed, you will most commonly initialize a BIDSLayout by passing in the BIDS dataset root location as a single argument. This creates an sqlite database containing information about the BIDS dataset. BIDS apps (e.g. BIDS Validator, fmriprep etc.) all creating the BIDSLayout database and use it to identify subjects, files, sessions and relevant metadata.\n",
    "\n",
    "In our case, except for the T1w anatomical image and a standard space 4D functional image in derivatives for sub-219, the image files are empty.  These empty files will work with BIDSlayout...and keep the dataset small. \n",
    "\n",
    "See [Querying BIDS datasets](https://bids-standard.github.io/pybids/layout/index.html) for more examples."
   ]
  },
  {
   "cell_type": "code",
   "execution_count": null,
   "metadata": {
    "ExecuteTime": {
     "end_time": "2020-09-29T21:13:29.236522Z",
     "start_time": "2020-09-29T21:13:26.118137Z"
    }
   },
   "outputs": [],
   "source": [
    "from bids import BIDSLayout, BIDSValidator\n",
    "\n",
    "data_dir = 'data/inputs'\n",
    "layout = BIDSLayout(data_dir, derivatives=False)"
   ]
  },
  {
   "cell_type": "markdown",
   "metadata": {},
   "source": [
    "Initializing a BIDSLayout finds and indexes all files and metadata found under the specified root folder. This can take a few seconds (or, for very large datasets, a minute or two). Once initialization is complete, you can start querying the BIDSLayout in various ways. \n",
    "\n",
    "- The main query method is `.get()`. If you call `.get()` with no additional arguments, you get information for **all** the files in the BIDS dataset. \n",
    "- The information about each file is contained in an object of type `BIDSFile`. \n",
    "- The several classes of BIDSFile objects each represent a type of file recognized by PyBIDS: BIDSFile, BIDSJSONFile, BIDSImageFile, and BIDSDataFile."
   ]
  },
  {
   "cell_type": "markdown",
   "metadata": {
    "tags": []
   },
   "source": [
    "## BIDSLayout: .get"
   ]
  },
  {
   "cell_type": "markdown",
   "metadata": {
    "tags": []
   },
   "source": [
    "When you call `.get()` on a BIDSLayout, the default returned values are BIDSFile objects. A BIDSFile is a container for information about individual files in a BIDS dataset. As we saw above, there are several sub-classes of BIDSFiles; each representing one of the kinds of files recognized by BIDS.\n",
    "\n",
    "Each sub-class has attributes and methods appropriate for the corresponding file type.\n",
    "Below are *some* of the **attributes** and **methods** available. Note that some of the methods are only available for certain sub-classes of BIDSFile; e.g., you can't call `get_image()` on a BIDSJSONFile because it doesn't correspond to an image file:\n",
    "\n",
    "- .path: The attribute contains the full path of the associated file\n",
    "- .filename: The attribute contains the associated file's filename (without directory)\n",
    "- .dirname: The attribute contains the directory containing the file\n",
    "<p>\n",
    "- .get_entities(): This method returns information about entities associated with this BIDSFile (optionally including metadata)\n",
    "- .get_image(): This method returns the file contents as a NiBabel image (only works for image files)\n",
    "- .get_df(): This method returns file contents as a pandas DataFrame (only works for TSV files)\n",
    "- .get_metadata(): This method returns a dictionary of all JSON metadata associated with an image (only works on image files)\n",
    "- .get_associations(): This method returns a list of all files associated with a specified file (usually the JSON file associated with an image file and vice-versa)\n",
    "- .get_subjects(): This method returns a list of the subject ID numbers"
   ]
  },
  {
   "cell_type": "code",
   "execution_count": null,
   "metadata": {
    "ExecuteTime": {
     "end_time": "2020-09-29T21:13:33.831834Z",
     "start_time": "2020-09-29T21:13:33.795946Z"
    }
   },
   "outputs": [],
   "source": [
    "layout.get()"
   ]
  },
  {
   "cell_type": "markdown",
   "metadata": {},
   "source": [
    "### Try This!\n",
    "\n",
    "That's a lot of files!  To clear the giant list that was just produced, right-click the output cell (the one that was created by running the code) and choose **Clear Outputs**"
   ]
  },
  {
   "cell_type": "markdown",
   "metadata": {},
   "source": [
    "### Get Just Filenames\n",
    "\n",
    "To see a list of filenames, instead of the clunky BIDSFile objects, just add a `return_type=file` argument, like this:"
   ]
  },
  {
   "cell_type": "code",
   "execution_count": null,
   "metadata": {},
   "outputs": [],
   "source": [
    "layout.get(return_type='file')"
   ]
  },
  {
   "cell_type": "markdown",
   "metadata": {
    "tags": []
   },
   "source": [
    "### Get just Subject IDs"
   ]
  },
  {
   "cell_type": "markdown",
   "metadata": {
    "tags": []
   },
   "source": [
    "As you saw above, using just the generic `.get()` call gives us information about **all** of the files. We will usually want to query the BIDSLayout to extract more specific information. For example, to return a list of the subject ids, we can say:"
   ]
  },
  {
   "cell_type": "code",
   "execution_count": null,
   "metadata": {
    "ExecuteTime": {
     "end_time": "2020-09-29T21:13:43.288326Z",
     "start_time": "2020-09-29T21:13:43.253127Z"
    },
    "tags": []
   },
   "outputs": [],
   "source": [
    "layout.get(target='subject', return_type='id')"
   ]
  },
  {
   "cell_type": "markdown",
   "metadata": {},
   "source": [
    "### Try This!\n",
    "In addition to `subject`, other working targets include `run`, `session`, and `task`.  Add cells and try them out!"
   ]
  },
  {
   "cell_type": "markdown",
   "metadata": {},
   "source": [
    "### Concise Get Methods "
   ]
  },
  {
   "cell_type": "markdown",
   "metadata": {},
   "source": [
    "These `get` operations are so common that there are more concise calls for each: e.g., `get_subjects` returns the same Python list of the subject IDs as the call above.  "
   ]
  },
  {
   "cell_type": "code",
   "execution_count": null,
   "metadata": {},
   "outputs": [],
   "source": [
    "layout.get_subjects()"
   ]
  },
  {
   "cell_type": "markdown",
   "metadata": {},
   "source": [
    "### Try This!\n",
    "Analogous to `get_subjects`, there are concise get commands for other properties. Create additional cells and try to retrieve data for some of the most common: `run`, `session`, and `task`. "
   ]
  },
  {
   "cell_type": "markdown",
   "metadata": {},
   "source": [
    "### Get BIDSLayout Entities\n",
    "Many of the BIDSLayout methods mention `entities`.  The code below gets the entities `layout.get_entities()`, retains just the `keys` (i.e., the entity names), and sorts the output alphabetically."
   ]
  },
  {
   "cell_type": "markdown",
   "metadata": {
    "tags": []
   },
   "source": [
    "### Get a Subset of Files"
   ]
  },
  {
   "cell_type": "markdown",
   "metadata": {},
   "source": [
    "Provide arguments to the general `get` method to select a subset of our files. For example, select only the BOLD-related file objects for subject number 188:"
   ]
  },
  {
   "cell_type": "code",
   "execution_count": null,
   "metadata": {
    "ExecuteTime": {
     "end_time": "2020-09-29T21:13:46.702262Z",
     "start_time": "2020-09-29T21:13:46.678097Z"
    }
   },
   "outputs": [],
   "source": [
    "layout.get(suffix='bold', subject='188')"
   ]
  },
  {
   "cell_type": "markdown",
   "metadata": {},
   "source": [
    "#### Try This!\n",
    "Try these alternative layout.get queries in new code cells\n",
    "\n",
    "```Python\n",
    "layout.get(suffix='bold')\n",
    "layout.get(suffix='bold', return_type='file')\n",
    "layout.get(subject='188', extension='.json')\n",
    "layout.get(ManufacturersModelName='Skyra')\n",
    "layout.get(Modality='MR')\n",
    "layout.get(EchoTime='0.025')\n",
    "layout.get(FlipAngle='90')\n",
    "```"
   ]
  },
  {
   "cell_type": "markdown",
   "metadata": {},
   "source": [
    "### Get Specific Information for a Subset of the Files"
   ]
  },
  {
   "cell_type": "markdown",
   "metadata": {},
   "source": [
    "In addition to selecting only certain files, we can also extract specific information from those file objects. \n",
    "For example, return only the filenames (not the BIDSLayout objects) for the BOLD NIfTI images for subject number 188:"
   ]
  },
  {
   "cell_type": "code",
   "execution_count": null,
   "metadata": {},
   "outputs": [],
   "source": [
    "layout.get(suffix='bold', subject='188', return_type='file', extension='nii.gz')"
   ]
  },
  {
   "cell_type": "markdown",
   "metadata": {
    "ExecuteTime": {
     "end_time": "2020-04-08T04:36:09.113705Z",
     "start_time": "2020-04-08T04:36:09.043456Z"
    }
   },
   "source": [
    "### Get a Subset by Task\n",
    "Query all files associated with a task (like rest).   "
   ]
  },
  {
   "cell_type": "code",
   "execution_count": null,
   "metadata": {
    "ExecuteTime": {
     "end_time": "2020-09-29T21:14:02.078750Z",
     "start_time": "2020-09-29T21:14:02.054906Z"
    }
   },
   "outputs": [],
   "source": [
    "layout.get(task='rest', suffix='bold')"
   ]
  },
  {
   "cell_type": "markdown",
   "metadata": {},
   "source": [
    "#### Try This!\n",
    "Add a cell to get information about the `nad1` task instead of `rest`."
   ]
  },
  {
   "cell_type": "markdown",
   "metadata": {},
   "source": [
    "### Get Individual File Objects"
   ]
  },
  {
   "cell_type": "markdown",
   "metadata": {},
   "source": [
    "Use `layout.get()` to retrieve an individual file so you can drill down to learn more about it.\n",
    "The first file in the BIDSLayout list is indexed with [0].  \n",
    "(Change the index to see a different file)."
   ]
  },
  {
   "cell_type": "code",
   "execution_count": null,
   "metadata": {
    "ExecuteTime": {
     "end_time": "2020-09-29T21:13:55.820223Z",
     "start_time": "2020-09-29T21:13:55.786380Z"
    }
   },
   "outputs": [],
   "source": [
    "f = layout.get()[0]\n",
    "f"
   ]
  },
  {
   "cell_type": "code",
   "execution_count": null,
   "metadata": {},
   "outputs": [],
   "source": [
    "# In this dataset: \n",
    "# index [0] retrieves the JSON file for the task rest\n",
    "f_rest_json = layout.get(task='rest')[0]\n",
    "\n",
    "# index [1] retrieves the NIfTI file for the task rest\n",
    "f_rest_nifti = layout.get(task='rest')[1]\n",
    "\n",
    "# This gets just the phasediff JSON file for sub-219\n",
    "f_phasediff_json = layout.get(subject='219', suffix='phasediff')[0]\n",
    "\n",
    "# This gets just the phasediff NIfTI file for sub-219\n",
    "f_phasediff_nifti = layout.get(subject='219', suffix='phasediff')[1]"
   ]
  },
  {
   "cell_type": "markdown",
   "metadata": {
    "tags": []
   },
   "source": [
    "### Get Information for One File\n",
    "Get the entities associated with one image file"
   ]
  },
  {
   "cell_type": "code",
   "execution_count": null,
   "metadata": {
    "ExecuteTime": {
     "end_time": "2020-04-09T16:39:57.330373Z",
     "start_time": "2020-04-09T16:39:42.175279Z"
    }
   },
   "outputs": [],
   "source": [
    "# Get entities just for the phasediff image file\n",
    "f_phasediff_nifti.get_entities()"
   ]
  },
  {
   "cell_type": "code",
   "execution_count": null,
   "metadata": {
    "ExecuteTime": {
     "end_time": "2020-04-09T16:39:57.330373Z",
     "start_time": "2020-04-09T16:39:42.175279Z"
    }
   },
   "outputs": [],
   "source": [
    "# Get_associations identifies related files, like the paired NIfTI and JSON files\n",
    "f_phasediff_nifti.get_associations()"
   ]
  },
  {
   "cell_type": "markdown",
   "metadata": {},
   "source": [
    "#### Try This!\n",
    "Add cells and do the following:\n",
    "- Get entities for a different file.\n",
    "- Get associations for a different file."
   ]
  },
  {
   "cell_type": "markdown",
   "metadata": {
    "tags": []
   },
   "source": [
    "### Make Information Retrieval more Efficient"
   ]
  },
  {
   "cell_type": "markdown",
   "metadata": {},
   "source": [
    "#### Store Data Subsets of Interest"
   ]
  },
  {
   "cell_type": "code",
   "execution_count": null,
   "metadata": {},
   "outputs": [],
   "source": [
    "# Several files are associated with the `rest` task.  Put that list into a variable\n",
    "rest_task = layout.get(task='rest')\n",
    "rest_task"
   ]
  },
  {
   "cell_type": "markdown",
   "metadata": {},
   "source": [
    "#### Loop over Data Subsets"
   ]
  },
  {
   "cell_type": "code",
   "execution_count": null,
   "metadata": {},
   "outputs": [],
   "source": [
    "# Now loop over the items in the list and get associations \n",
    "\n",
    "for fyl in rest_task:\n",
    "    print(f\"Associations for {fyl.filename} in {os.path.basename(fyl.dirname)}:\")\n",
    "    assoc = fyl.get_associations()\n",
    "    for ass in assoc:\n",
    "        print(f\"\\t{ass.filename}\")\n",
    "    print()"
   ]
  },
  {
   "cell_type": "code",
   "execution_count": null,
   "metadata": {},
   "outputs": [],
   "source": [
    "# Now loop over the items in the list and get entities \n",
    "\n",
    "for fyl in rest_task:\n",
    "    print(f\"Entities for {fyl.filename} in {os.path.basename(fyl.dirname)}:\")\n",
    "    ent = fyl.get_entities()\n",
    "    for e in ent:\n",
    "        print(f\"\\t{e}\")\n",
    "    print()"
   ]
  },
  {
   "cell_type": "markdown",
   "metadata": {},
   "source": [
    "### Get Information about the IntendedFor Field"
   ]
  },
  {
   "cell_type": "code",
   "execution_count": null,
   "metadata": {},
   "outputs": [],
   "source": [
    "# Get the entire BIDSLayout and put it in a variable\n",
    "fyls_all=layout.get()\n",
    "# Just to check, see how many files this are\n",
    "num_fyls=len(fyls_all)\n",
    "num_fyls"
   ]
  },
  {
   "cell_type": "code",
   "execution_count": null,
   "metadata": {},
   "outputs": [],
   "source": [
    "for fyl in fyls_all:  \n",
    "    intend = fyl.get_metadata().get('IntendedFor')\n",
    "    if (intend is not None):\n",
    "        print(f\"IntendedFor in {fyl.filename}:\")\n",
    "        print(f\"{intend}\\n\")"
   ]
  },
  {
   "cell_type": "markdown",
   "metadata": {
    "tags": []
   },
   "source": [
    "## Display BIDSLayout in a Dataframe  "
   ]
  },
  {
   "cell_type": "markdown",
   "metadata": {},
   "source": [
    "Display a handsome summary of all the files in your BIDSLayout using the `to_df()` method."
   ]
  },
  {
   "cell_type": "code",
   "execution_count": null,
   "metadata": {
    "ExecuteTime": {
     "end_time": "2020-09-29T21:14:13.227079Z",
     "start_time": "2020-09-29T21:14:11.328079Z"
    }
   },
   "outputs": [],
   "source": [
    "layout.to_df()"
   ]
  },
  {
   "cell_type": "markdown",
   "metadata": {},
   "source": [
    "### Try This!\n",
    "Add a cell and filter the table displayed by to_df:    \n",
    "- You can limit this by supplying arguments like subject, suffix, extension etc. as we did before. \n",
    "- For example, `layout.to_df(suffix='T1w')`"
   ]
  },
  {
   "cell_type": "markdown",
   "metadata": {},
   "source": [
    "## BIDS Reports"
   ]
  },
  {
   "cell_type": "markdown",
   "metadata": {},
   "source": [
    "The `bids.reports.BIDSReport` class requires a `bids.BIDSLayout` object as an argument. Pybids reports are then generated with the generate method.\n",
    "The generate method allows for keyword restrictions, just like bids.BIDSLayout’s get method. For example, to generate a report only for nback task data in session 01:\n",
    "`counter = report.generate(session='01', task='nback')`.\n",
    "\n",
    "The report knows which images are empty, so for this dataset, we can only run the report on the sub-219 T1w image which isn't empty!\n",
    "\n",
    "See [PyBIDS Reports](https://bids-standard.github.io/pybids/reports/index.html) to learn more."
   ]
  },
  {
   "cell_type": "code",
   "execution_count": null,
   "metadata": {},
   "outputs": [],
   "source": [
    "from os.path import join\n",
    "from bids import BIDSLayout\n",
    "from bids.reports import BIDSReport\n",
    "\n",
    "data_dir = 'data/inputs'\n",
    "layout = BIDSLayout(data_dir, derivatives=False)\n",
    "\n",
    "report = BIDSReport(layout)\n",
    "\n",
    "counter = report.generate(subject = '219', session = 'itbs', suffix = 'T1w')\n",
    "main_report = counter.most_common()[0][0]\n",
    "print(main_report)"
   ]
  },
  {
   "cell_type": "code",
   "execution_count": null,
   "metadata": {},
   "outputs": [],
   "source": [
    "# This is a report for a synthetic test dataset. \n",
    "# In a dataset with real images, it is not be necessary to restrict report.generate\n",
    "\n",
    "from bids.tests import get_test_data_path\n",
    "layout2 = BIDSLayout(join(get_test_data_path(), 'synthetic'))\n",
    "report = BIDSReport(layout2)\n",
    "counter = report.generate()\n",
    "main_report = counter.most_common()[0][0]\n",
    "print(main_report)"
   ]
  },
  {
   "cell_type": "markdown",
   "metadata": {
    "tags": []
   },
   "source": [
    "## PyBIDS BIDSLayout Summary"
   ]
  },
  {
   "cell_type": "markdown",
   "metadata": {},
   "source": [
    "If your data conforms to the BIDS data structure, you can use BIDSLayout to retrieve information about the contents of the dataset.\n",
    "But, of course, you'd like to DO something with the data, not just look at its structure.  That's where our next tool NiBabel is useful, and can be explored in an additional notebook."
   ]
  }
 ],
 "metadata": {
  "kernelspec": {
   "display_name": "Python 3 (ipykernel)",
   "language": "python",
   "name": "python3"
  },
  "language_info": {
   "codemirror_mode": {
    "name": "ipython",
    "version": 3
   },
   "file_extension": ".py",
   "mimetype": "text/x-python",
   "name": "python",
   "nbconvert_exporter": "python",
   "pygments_lexer": "ipython3",
   "version": "3.10.5"
  },
  "toc": {
   "base_numbering": 1,
   "nav_menu": {},
   "number_sections": true,
   "sideBar": true,
   "skip_h1_title": false,
   "title_cell": "Table of Contents",
   "title_sidebar": "Contents",
   "toc_cell": false,
   "toc_position": {
    "height": "calc(100% - 180px)",
    "left": "10px",
    "top": "150px",
    "width": "236px"
   },
   "toc_section_display": true,
   "toc_window_display": true
  },
  "toc-autonumbering": true,
  "toc-showmarkdowntxt": false
 },
 "nbformat": 4,
 "nbformat_minor": 4
}
